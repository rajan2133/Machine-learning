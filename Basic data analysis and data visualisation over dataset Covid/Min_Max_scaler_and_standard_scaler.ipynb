{
  "nbformat": 4,
  "nbformat_minor": 0,
  "metadata": {
    "colab": {
      "provenance": []
    },
    "kernelspec": {
      "name": "python3",
      "display_name": "Python 3"
    }
  },
  "cells": [
    {
      "cell_type": "markdown",
      "source": [
        "# Aim: Min Max scaler and standard scaler"
      ],
      "metadata": {
        "id": "HvPbRooJ_St4"
      }
    },
    {
      "cell_type": "code",
      "metadata": {
        "id": "IruqpRW4BhKa"
      },
      "source": [
        "import numpy as np\n",
        "import pandas as pd"
      ],
      "execution_count": null,
      "outputs": []
    },
    {
      "cell_type": "code",
      "metadata": {
        "id": "yVIKEFPpBz3V"
      },
      "source": [
        "dataset = pd.read_csv('/content/dataset1.csv')"
      ],
      "execution_count": null,
      "outputs": []
    },
    {
      "cell_type": "code",
      "metadata": {
        "colab": {
          "base_uri": "https://localhost:8080/",
          "height": 357
        },
        "id": "r4whUrX1i03p",
        "outputId": "e5f62e9f-e474-4b41-87a9-81d9025abefd"
      },
      "source": [
        "dataset"
      ],
      "execution_count": null,
      "outputs": [
        {
          "output_type": "execute_result",
          "data": {
            "text/html": [
              "<div>\n",
              "<style scoped>\n",
              "    .dataframe tbody tr th:only-of-type {\n",
              "        vertical-align: middle;\n",
              "    }\n",
              "\n",
              "    .dataframe tbody tr th {\n",
              "        vertical-align: top;\n",
              "    }\n",
              "\n",
              "    .dataframe thead th {\n",
              "        text-align: right;\n",
              "    }\n",
              "</style>\n",
              "<table border=\"1\" class=\"dataframe\">\n",
              "  <thead>\n",
              "    <tr style=\"text-align: right;\">\n",
              "      <th></th>\n",
              "      <th>Country</th>\n",
              "      <th>Age</th>\n",
              "      <th>Salary</th>\n",
              "      <th>Purchased</th>\n",
              "    </tr>\n",
              "  </thead>\n",
              "  <tbody>\n",
              "    <tr>\n",
              "      <th>0</th>\n",
              "      <td>France</td>\n",
              "      <td>44.0</td>\n",
              "      <td>72000.0</td>\n",
              "      <td>No</td>\n",
              "    </tr>\n",
              "    <tr>\n",
              "      <th>1</th>\n",
              "      <td>Spain</td>\n",
              "      <td>27.0</td>\n",
              "      <td>48000.0</td>\n",
              "      <td>Yes</td>\n",
              "    </tr>\n",
              "    <tr>\n",
              "      <th>2</th>\n",
              "      <td>Germany</td>\n",
              "      <td>30.0</td>\n",
              "      <td>54000.0</td>\n",
              "      <td>No</td>\n",
              "    </tr>\n",
              "    <tr>\n",
              "      <th>3</th>\n",
              "      <td>Spain</td>\n",
              "      <td>38.0</td>\n",
              "      <td>61000.0</td>\n",
              "      <td>No</td>\n",
              "    </tr>\n",
              "    <tr>\n",
              "      <th>4</th>\n",
              "      <td>Germany</td>\n",
              "      <td>40.0</td>\n",
              "      <td>NaN</td>\n",
              "      <td>Yes</td>\n",
              "    </tr>\n",
              "    <tr>\n",
              "      <th>5</th>\n",
              "      <td>France</td>\n",
              "      <td>35.0</td>\n",
              "      <td>58000.0</td>\n",
              "      <td>Yes</td>\n",
              "    </tr>\n",
              "    <tr>\n",
              "      <th>6</th>\n",
              "      <td>Spain</td>\n",
              "      <td>NaN</td>\n",
              "      <td>52000.0</td>\n",
              "      <td>No</td>\n",
              "    </tr>\n",
              "    <tr>\n",
              "      <th>7</th>\n",
              "      <td>France</td>\n",
              "      <td>48.0</td>\n",
              "      <td>79000.0</td>\n",
              "      <td>Yes</td>\n",
              "    </tr>\n",
              "    <tr>\n",
              "      <th>8</th>\n",
              "      <td>Germany</td>\n",
              "      <td>50.0</td>\n",
              "      <td>83000.0</td>\n",
              "      <td>No</td>\n",
              "    </tr>\n",
              "    <tr>\n",
              "      <th>9</th>\n",
              "      <td>France</td>\n",
              "      <td>37.0</td>\n",
              "      <td>67000.0</td>\n",
              "      <td>Yes</td>\n",
              "    </tr>\n",
              "  </tbody>\n",
              "</table>\n",
              "</div>"
            ],
            "text/plain": [
              "   Country   Age   Salary Purchased\n",
              "0   France  44.0  72000.0        No\n",
              "1    Spain  27.0  48000.0       Yes\n",
              "2  Germany  30.0  54000.0        No\n",
              "3    Spain  38.0  61000.0        No\n",
              "4  Germany  40.0      NaN       Yes\n",
              "5   France  35.0  58000.0       Yes\n",
              "6    Spain   NaN  52000.0        No\n",
              "7   France  48.0  79000.0       Yes\n",
              "8  Germany  50.0  83000.0        No\n",
              "9   France  37.0  67000.0       Yes"
            ]
          },
          "metadata": {
            "tags": []
          },
          "execution_count": 28
        }
      ]
    },
    {
      "cell_type": "code",
      "metadata": {
        "id": "iZvve5wtCIaJ"
      },
      "source": [
        "X = dataset.iloc[:, :-1].values\n",
        "y = dataset.iloc[:, -1].values"
      ],
      "execution_count": null,
      "outputs": []
    },
    {
      "cell_type": "code",
      "metadata": {
        "colab": {
          "base_uri": "https://localhost:8080/"
        },
        "id": "5X7MaQ0BCKNv",
        "outputId": "1a258cd6-970e-41b4-cf9f-c22c0b04130d"
      },
      "source": [
        "X"
      ],
      "execution_count": null,
      "outputs": [
        {
          "output_type": "execute_result",
          "data": {
            "text/plain": [
              "array([['France', 44.0, 72000.0],\n",
              "       ['Spain', 27.0, 48000.0],\n",
              "       ['Germany', 30.0, 54000.0],\n",
              "       ['Spain', 38.0, 61000.0],\n",
              "       ['Germany', 40.0, nan],\n",
              "       ['France', 35.0, 58000.0],\n",
              "       ['Spain', nan, 52000.0],\n",
              "       ['France', 48.0, 79000.0],\n",
              "       ['Germany', 50.0, 83000.0],\n",
              "       ['France', 37.0, 67000.0]], dtype=object)"
            ]
          },
          "metadata": {
            "tags": []
          },
          "execution_count": 30
        }
      ]
    },
    {
      "cell_type": "code",
      "metadata": {
        "colab": {
          "base_uri": "https://localhost:8080/"
        },
        "id": "Qz_IsbgGCQ5_",
        "outputId": "dd83f7cf-d5d3-4302-85bc-21a8ea9457a3"
      },
      "source": [
        "y"
      ],
      "execution_count": null,
      "outputs": [
        {
          "output_type": "execute_result",
          "data": {
            "text/plain": [
              "array(['No', 'Yes', 'No', 'No', 'Yes', 'Yes', 'No', 'Yes', 'No', 'Yes'],\n",
              "      dtype=object)"
            ]
          },
          "metadata": {
            "tags": []
          },
          "execution_count": 31
        }
      ]
    },
    {
      "cell_type": "code",
      "metadata": {
        "id": "afcUb2rkDI4c"
      },
      "source": [
        "from sklearn.impute import SimpleImputer\n"
      ],
      "execution_count": null,
      "outputs": []
    },
    {
      "cell_type": "code",
      "metadata": {
        "id": "W6FFhm8fDLHE"
      },
      "source": [
        "imputer = SimpleImputer(missing_values = np.nan, strategy = 'mean')\n",
        "imputer = imputer.fit(X[:, 1:3])"
      ],
      "execution_count": null,
      "outputs": []
    },
    {
      "cell_type": "code",
      "metadata": {
        "id": "q4moeL1UJ-fJ"
      },
      "source": [
        "X[:, 1:3] = imputer.transform(X[:, 1:3])"
      ],
      "execution_count": null,
      "outputs": []
    },
    {
      "cell_type": "code",
      "metadata": {
        "colab": {
          "base_uri": "https://localhost:8080/"
        },
        "id": "eu134GNYK1DX",
        "outputId": "cd5a7cbf-d2fd-4b36-9fc5-fb2823408a03"
      },
      "source": [
        "from sklearn.preprocessing import LabelEncoder\n",
        "\n",
        "labelencoder_X = LabelEncoder()\n",
        "X[:, 0] = labelencoder_X.fit_transform(X[:, 0])\n",
        "print(X)"
      ],
      "execution_count": null,
      "outputs": [
        {
          "output_type": "stream",
          "text": [
            "[[0 44.0 72000.0]\n",
            " [2 27.0 48000.0]\n",
            " [1 30.0 54000.0]\n",
            " [2 38.0 61000.0]\n",
            " [1 40.0 63777.77777777778]\n",
            " [0 35.0 58000.0]\n",
            " [2 38.77777777777778 52000.0]\n",
            " [0 48.0 79000.0]\n",
            " [1 50.0 83000.0]\n",
            " [0 37.0 67000.0]]\n"
          ],
          "name": "stdout"
        }
      ]
    },
    {
      "cell_type": "code",
      "metadata": {
        "id": "QosKFfpvMY4P"
      },
      "source": [
        "# On dataset1\n",
        "\n",
        "from sklearn.model_selection import train_test_split\n",
        "X_train, X_test, Y_train, Y_test = train_test_split(X, y, test_size = .3, random_state = 0)"
      ],
      "execution_count": null,
      "outputs": []
    },
    {
      "cell_type": "code",
      "metadata": {
        "colab": {
          "base_uri": "https://localhost:8080/"
        },
        "id": "Vzk14SVPUSWy",
        "outputId": "a7df3f3b-9508-436c-f069-aef07f10d14d"
      },
      "source": [
        "X_train"
      ],
      "execution_count": null,
      "outputs": [
        {
          "output_type": "execute_result",
          "data": {
            "text/plain": [
              "array([[-0.8660254 , -0.2029809 ,  0.44897083],\n",
              "       [ 1.15470054, -1.82168936, -1.41706417],\n",
              "       [ 1.15470054,  0.08478949, -1.0242147 ],\n",
              "       [-0.8660254 ,  1.5775984 ,  1.62751925],\n",
              "       [ 1.15470054, -0.04111006, -0.14030338],\n",
              "       [-0.8660254 ,  0.93011502,  0.94003267],\n",
              "       [-0.8660254 , -0.52672259, -0.43494049]])"
            ]
          },
          "metadata": {
            "tags": []
          },
          "execution_count": 37
        }
      ]
    },
    {
      "cell_type": "code",
      "metadata": {
        "colab": {
          "base_uri": "https://localhost:8080/"
        },
        "id": "gXpSxuOFUUsP",
        "outputId": "6bca6091-c2d6-415c-a595-dba0b1dd896a"
      },
      "source": [
        "X_test"
      ],
      "execution_count": null,
      "outputs": [
        {
          "output_type": "execute_result",
          "data": {
            "text/plain": [
              "array([[ 0.14433757, -1.33607682, -0.82778996],\n",
              "       [ 0.14433757,  1.90134009,  2.02036872],\n",
              "       [ 0.14433757,  0.28263164,  0.13250875]])"
            ]
          },
          "metadata": {
            "tags": []
          },
          "execution_count": 38
        }
      ]
    },
    {
      "cell_type": "code",
      "metadata": {
        "id": "ShIRn25BNKNA"
      },
      "source": [
        "# Feature Scaling\n",
        "from sklearn.preprocessing import StandardScaler\n",
        "sc_X = StandardScaler()\n",
        "\n",
        "X_train = sc_X.fit_transform(X_train)\n",
        "X_test = sc_X.transform(X_test)"
      ],
      "execution_count": null,
      "outputs": []
    },
    {
      "cell_type": "code",
      "metadata": {
        "colab": {
          "base_uri": "https://localhost:8080/"
        },
        "id": "-w8elsV6jJzd",
        "outputId": "71d4ea6a-aeda-4891-a044-74048718dbef"
      },
      "source": [
        "X_train"
      ],
      "execution_count": null,
      "outputs": [
        {
          "output_type": "execute_result",
          "data": {
            "text/plain": [
              "array([[-0.8660254 , -0.2029809 ,  0.44897083],\n",
              "       [ 1.15470054, -1.82168936, -1.41706417],\n",
              "       [ 1.15470054,  0.08478949, -1.0242147 ],\n",
              "       [-0.8660254 ,  1.5775984 ,  1.62751925],\n",
              "       [ 1.15470054, -0.04111006, -0.14030338],\n",
              "       [-0.8660254 ,  0.93011502,  0.94003267],\n",
              "       [-0.8660254 , -0.52672259, -0.43494049]])"
            ]
          },
          "metadata": {
            "tags": []
          },
          "execution_count": 40
        }
      ]
    },
    {
      "cell_type": "code",
      "metadata": {
        "id": "r5tt5kVeTWmO"
      },
      "source": [
        "# Feature Scaling\n",
        "from sklearn.preprocessing import MinMaxScaler\n",
        "sc_X = MinMaxScaler()\n",
        "\n",
        "X_train = sc_X.fit_transform(X_train)\n",
        "X_test = sc_X.transform(X_test)"
      ],
      "execution_count": null,
      "outputs": []
    },
    {
      "cell_type": "code",
      "metadata": {
        "colab": {
          "base_uri": "https://localhost:8080/"
        },
        "id": "X_PrD-HWTuQw",
        "outputId": "da839609-f703-49a3-c156-3ecdeadfe20c"
      },
      "source": [
        "X_train"
      ],
      "execution_count": null,
      "outputs": [
        {
          "output_type": "execute_result",
          "data": {
            "text/plain": [
              "array([[0.        , 0.47619048, 0.61290323],\n",
              "       [1.        , 0.        , 0.        ],\n",
              "       [1.        , 0.56084656, 0.12903226],\n",
              "       [0.        , 1.        , 1.        ],\n",
              "       [1.        , 0.52380952, 0.41935484],\n",
              "       [0.        , 0.80952381, 0.77419355],\n",
              "       [0.        , 0.38095238, 0.32258065]])"
            ]
          },
          "metadata": {
            "tags": []
          },
          "execution_count": 29
        }
      ]
    },
    {
      "cell_type": "code",
      "metadata": {
        "colab": {
          "base_uri": "https://localhost:8080/"
        },
        "id": "sPERCAmEQ5l0",
        "outputId": "d8eb2d22-f27d-445f-e3f6-3e0b6618e45e"
      },
      "source": [
        "X_test"
      ],
      "execution_count": null,
      "outputs": [
        {
          "output_type": "execute_result",
          "data": {
            "text/plain": [
              "array([[1, 30.0, 54000.0],\n",
              "       [1, 50.0, 83000.0],\n",
              "       [1, 40.0, 63777.77777777778]], dtype=object)"
            ]
          },
          "metadata": {
            "tags": []
          },
          "execution_count": 18
        }
      ]
    },
    {
      "cell_type": "code",
      "metadata": {
        "id": "c2k5GqLMVYzZ"
      },
      "source": [
        "data1 = [[12, 3, 34], [10, 32, 4],  [7, 11, 20]]"
      ],
      "execution_count": null,
      "outputs": []
    },
    {
      "cell_type": "code",
      "metadata": {
        "colab": {
          "base_uri": "https://localhost:8080/"
        },
        "id": "2ED_xcP5VjxB",
        "outputId": "0d932df3-f15a-49a0-fda3-81cfe6bbda44"
      },
      "source": [
        "data1"
      ],
      "execution_count": null,
      "outputs": [
        {
          "output_type": "execute_result",
          "data": {
            "text/plain": [
              "[[12, 3, 34], [10, 32, 4], [7, 11, 20]]"
            ]
          },
          "metadata": {
            "tags": []
          },
          "execution_count": 42
        }
      ]
    },
    {
      "cell_type": "code",
      "metadata": {
        "id": "3bdKw5gyVqfB"
      },
      "source": [
        "# Feature Scaling\n",
        "from sklearn.preprocessing import StandardScaler\n",
        "sc_X = StandardScaler()\n",
        "\n",
        "X_train = sc_X.fit_transform(data1)\n"
      ],
      "execution_count": null,
      "outputs": []
    },
    {
      "cell_type": "code",
      "metadata": {
        "colab": {
          "base_uri": "https://localhost:8080/"
        },
        "id": "88dVAhbmV3x8",
        "outputId": "6772640e-aa95-4039-8522-565f5f80a8ee"
      },
      "source": [
        "X_train"
      ],
      "execution_count": null,
      "outputs": [
        {
          "output_type": "execute_result",
          "data": {
            "text/plain": [
              "array([[ 1.13554995, -1.00850764,  1.19664225],\n",
              "       [ 0.16222142,  1.36284817, -1.25103507],\n",
              "       [-1.29777137, -0.35434052,  0.05439283]])"
            ]
          },
          "metadata": {
            "tags": []
          },
          "execution_count": 22
        }
      ]
    },
    {
      "cell_type": "code",
      "metadata": {
        "id": "AH07RwgmWk1g"
      },
      "source": [
        "# Data Preprocessing\n",
        "\n",
        "# Importing the libraries\n",
        "import numpy as np\n",
        "import matplotlib.pyplot as plt\n",
        "import pandas as pd\n",
        "\n",
        "\n",
        "# Importing the dataset\n",
        "dataset = pd.read_csv('/content/dataset2.csv')\n",
        "X = dataset.iloc[:, :].values\n",
        "#y = dataset.iloc[:, 3].values\n",
        "\n",
        "# Encoding categorical data\n",
        "from sklearn.preprocessing import LabelEncoder, OneHotEncoder\n",
        "from sklearn.compose import ColumnTransformer\n",
        "\n",
        "\n",
        "\n"
      ],
      "execution_count": null,
      "outputs": []
    },
    {
      "cell_type": "code",
      "metadata": {
        "id": "-KKjk4PPAwnc"
      },
      "source": [
        "print(X.describe())"
      ],
      "execution_count": null,
      "outputs": []
    },
    {
      "cell_type": "code",
      "metadata": {
        "id": "LfDFKk1I3ELt"
      },
      "source": [
        "transform = ColumnTransformer([('Outlook_OL0_OL1',OneHotEncoder(),[0],)], remainder = 'passthrough')\n",
        "\n",
        "# columnTransformer = ColumnTransformer([('encoder',\n",
        "# \t\t\t\t\t\t\t\t\t\tOneHotEncoder(),\n",
        "# \t\t\t\t\t\t\t\t\t\t[0])],\n",
        "# \t\t\t\t\t\t\t\t\tremainder='passthrough')"
      ],
      "execution_count": null,
      "outputs": []
    },
    {
      "cell_type": "code",
      "metadata": {
        "colab": {
          "base_uri": "https://localhost:8080/"
        },
        "id": "PPUWGUcN3GDy",
        "outputId": "1d9fb2fb-721f-478a-8ef3-fa733171337e"
      },
      "source": [
        "X = transform.fit_transform(X)\n",
        "X"
      ],
      "execution_count": null,
      "outputs": [
        {
          "output_type": "execute_result",
          "data": {
            "text/plain": [
              "array([[0.0, 0.0, 1.0, 1, 'Sunny'],\n",
              "       [0.0, 0.0, 1.0, 2, 'Sunny'],\n",
              "       [1.0, 0.0, 0.0, 3, 'Overcast'],\n",
              "       [0.0, 1.0, 0.0, 4, 'Rain'],\n",
              "       [0.0, 1.0, 0.0, 5, 'Rain'],\n",
              "       [0.0, 1.0, 0.0, 2, 'Rain'],\n",
              "       [1.0, 0.0, 0.0, 3, 'Overcast'],\n",
              "       [0.0, 0.0, 1.0, 1, 'Sunny'],\n",
              "       [0.0, 0.0, 1.0, 2, 'Sunny'],\n",
              "       [0.0, 1.0, 0.0, 3, 'Rain'],\n",
              "       [0.0, 0.0, 1.0, 4, 'Sunny'],\n",
              "       [1.0, 0.0, 0.0, 2, 'Overcast'],\n",
              "       [1.0, 0.0, 0.0, 1, 'Overcast'],\n",
              "       [0.0, 1.0, 0.0, 3, 'Rain']], dtype=object)"
            ]
          },
          "metadata": {
            "tags": []
          },
          "execution_count": 48
        }
      ]
    },
    {
      "cell_type": "code",
      "metadata": {
        "colab": {
          "base_uri": "https://localhost:8080/"
        },
        "id": "QXuCqzJcX1Ta",
        "outputId": "e6c626d5-0d27-4ddc-84b7-888670b022e6"
      },
      "source": [],
      "execution_count": null,
      "outputs": [
        {
          "output_type": "execute_result",
          "data": {
            "text/plain": [
              "array([[0.0, 0.0, 1.0, 0.0, 0.0, 1.0, 1],\n",
              "       [0.0, 0.0, 1.0, 0.0, 0.0, 1.0, 2],\n",
              "       [1.0, 0.0, 0.0, 1.0, 0.0, 0.0, 3],\n",
              "       [0.0, 1.0, 0.0, 0.0, 1.0, 0.0, 4],\n",
              "       [0.0, 1.0, 0.0, 0.0, 1.0, 0.0, 5],\n",
              "       [0.0, 1.0, 0.0, 0.0, 1.0, 0.0, 2],\n",
              "       [1.0, 0.0, 0.0, 1.0, 0.0, 0.0, 3],\n",
              "       [0.0, 0.0, 1.0, 0.0, 0.0, 1.0, 1],\n",
              "       [0.0, 0.0, 1.0, 0.0, 0.0, 1.0, 2],\n",
              "       [0.0, 1.0, 0.0, 0.0, 1.0, 0.0, 3],\n",
              "       [0.0, 0.0, 1.0, 0.0, 0.0, 1.0, 4],\n",
              "       [1.0, 0.0, 0.0, 1.0, 0.0, 0.0, 2],\n",
              "       [1.0, 0.0, 0.0, 1.0, 0.0, 0.0, 1],\n",
              "       [0.0, 1.0, 0.0, 0.0, 1.0, 0.0, 3]], dtype=object)"
            ]
          },
          "metadata": {
            "tags": []
          },
          "execution_count": 25
        }
      ]
    },
    {
      "cell_type": "code",
      "metadata": {
        "colab": {
          "base_uri": "https://localhost:8080/"
        },
        "id": "DuU7hanbXgH2",
        "outputId": "86691974-4491-44eb-c61a-e6d2eb69114c"
      },
      "source": [
        "transform =  ColumnTransformer([(\"Outlook_OL0_OL1\",OneHotEncoder(),[6])], remainder = 'passthrough')\n",
        "X = transform.fit_transform(X)\n",
        "print(X.astype(int))"
      ],
      "execution_count": null,
      "outputs": [
        {
          "output_type": "stream",
          "text": [
            "[[1 0 0 0 0 0 0 1 0 0 1]\n",
            " [0 1 0 0 0 0 0 1 0 0 1]\n",
            " [0 0 1 0 0 1 0 0 1 0 0]\n",
            " [0 0 0 1 0 0 1 0 0 1 0]\n",
            " [0 0 0 0 1 0 1 0 0 1 0]\n",
            " [0 1 0 0 0 0 1 0 0 1 0]\n",
            " [0 0 1 0 0 1 0 0 1 0 0]\n",
            " [1 0 0 0 0 0 0 1 0 0 1]\n",
            " [0 1 0 0 0 0 0 1 0 0 1]\n",
            " [0 0 1 0 0 0 1 0 0 1 0]\n",
            " [0 0 0 1 0 0 0 1 0 0 1]\n",
            " [0 1 0 0 0 1 0 0 1 0 0]\n",
            " [1 0 0 0 0 1 0 0 1 0 0]\n",
            " [0 0 1 0 0 0 1 0 0 1 0]]\n"
          ],
          "name": "stdout"
        }
      ]
    },
    {
      "cell_type": "code",
      "metadata": {
        "colab": {
          "base_uri": "https://localhost:8080/"
        },
        "id": "OZJ7hPQnTAlR",
        "outputId": "0cce897e-5947-4121-a8fd-f5167a9bc516"
      },
      "source": [
        "# Program for demonstration of one hot encoding\n",
        "\n",
        "# import libraries\n",
        "import numpy as np\n",
        "import pandas as pd\n",
        "\n",
        "# import the data required\n",
        "data = pd.read_csv(\"/content/dataset2.csv\")\n",
        "print(data)\n",
        "\n",
        "# importing one hot encoder from sklearn\n",
        "# There are changes in OneHotEncoder class\n",
        "from sklearn.preprocessing import OneHotEncoder\n",
        "from sklearn.compose import ColumnTransformer\n",
        "\n",
        "# creating one hot encoder object with categorical feature 0\n",
        "# indicating the first column\n",
        "columnTransformer = ColumnTransformer([('encoder',\n",
        "\t\t\t\t\t\t\t\t\t\tOneHotEncoder(),\n",
        "\t\t\t\t\t\t\t\t\t\t[0])],\n",
        "\t\t\t\t\t\t\t\t\tremainder='passthrough')\n",
        "\n",
        "data = np.array(columnTransformer.fit_transform(data), dtype = np.str)\n",
        "print(data)\n"
      ],
      "execution_count": null,
      "outputs": [
        {
          "output_type": "stream",
          "text": [
            "     Outlook  Outlook0  Outlook1\n",
            "0      Sunny         1     Sunny\n",
            "1      Sunny         2     Sunny\n",
            "2   Overcast         3  Overcast\n",
            "3       Rain         4      Rain\n",
            "4       Rain         5      Rain\n",
            "5       Rain         2      Rain\n",
            "6   Overcast         3  Overcast\n",
            "7      Sunny         1     Sunny\n",
            "8      Sunny         2     Sunny\n",
            "9       Rain         3      Rain\n",
            "10     Sunny         4     Sunny\n",
            "11  Overcast         2  Overcast\n",
            "12  Overcast         1  Overcast\n",
            "13      Rain         3      Rain\n",
            "[['0.0' '0.0' '1.0' '1' 'Sunny']\n",
            " ['0.0' '0.0' '1.0' '2' 'Sunny']\n",
            " ['1.0' '0.0' '0.0' '3' 'Overcast']\n",
            " ['0.0' '1.0' '0.0' '4' 'Rain']\n",
            " ['0.0' '1.0' '0.0' '5' 'Rain']\n",
            " ['0.0' '1.0' '0.0' '2' 'Rain']\n",
            " ['1.0' '0.0' '0.0' '3' 'Overcast']\n",
            " ['0.0' '0.0' '1.0' '1' 'Sunny']\n",
            " ['0.0' '0.0' '1.0' '2' 'Sunny']\n",
            " ['0.0' '1.0' '0.0' '3' 'Rain']\n",
            " ['0.0' '0.0' '1.0' '4' 'Sunny']\n",
            " ['1.0' '0.0' '0.0' '2' 'Overcast']\n",
            " ['1.0' '0.0' '0.0' '1' 'Overcast']\n",
            " ['0.0' '1.0' '0.0' '3' 'Rain']]\n"
          ],
          "name": "stdout"
        }
      ]
    },
    {
      "cell_type": "code",
      "metadata": {
        "colab": {
          "base_uri": "https://localhost:8080/"
        },
        "id": "b--896xRDVbM",
        "outputId": "e831a410-bdea-4fce-d790-a5dbb58f5b38"
      },
      "source": [
        "# Importing the SimpleImputer class\n",
        "from sklearn.impute import SimpleImputer\n",
        "\n",
        "# Imputer object using the mean strategy and\n",
        "# missing_values type for imputation\n",
        "imputer1 = SimpleImputer(missing_values = np.nan,\n",
        "                        strategy ='mean')\n",
        "\n",
        "data = [[12, np.nan, 34], [10, 32, np.nan],\n",
        "        [np.nan, 11, 20]]\n",
        "\n",
        "print(\"Original Data : \\n\", data)\n",
        "# Fitting the data to the imputer object\n",
        "imputer1 = imputer.fit(data)\n",
        "\n",
        "# Imputing the data\n",
        "data = imputer1.transform(data)\n",
        "\n",
        "print(\"Imputed Data : \\n\", data)"
      ],
      "execution_count": null,
      "outputs": [
        {
          "output_type": "stream",
          "text": [
            "Original Data : \n",
            " [[12, nan, 34], [10, 32, nan], [nan, 11, 20]]\n",
            "Imputed Data : \n",
            " [[12.  21.5 34. ]\n",
            " [10.  32.  27. ]\n",
            " [11.  11.  20. ]]\n"
          ],
          "name": "stdout"
        }
      ]
    },
    {
      "cell_type": "code",
      "metadata": {
        "colab": {
          "base_uri": "https://localhost:8080/",
          "height": 265
        },
        "id": "w-_TwH6Vm8RW",
        "outputId": "02f11870-1604-4498-d381-a3bba181561b"
      },
      "source": [
        "#2D Plot with Interpolation\n",
        "import matplotlib.pyplot as plt\n",
        "import numpy as np\n",
        "from scipy.interpolate import make_interp_spline\n",
        "x=np.array([1,2,3,4])\n",
        "y=np.array([1,2,8,12])\n",
        "x_smooth = np.linspace(x.min(),x.max(),4)\n",
        "y_smooth=make_interp_spline(x,y)(x_smooth)\n",
        "plt.plot(x_smooth,y_smooth)\n",
        "plt.show()\n"
      ],
      "execution_count": null,
      "outputs": [
        {
          "output_type": "display_data",
          "data": {
            "image/png": "[encoded data removed]",
            "text/plain": [
              "<Figure size 432x288 with 1 Axes>"
            ]
          },
          "metadata": {
            "tags": [],
            "needs_background": "light"
          }
        }
      ]
    },
    {
      "cell_type": "code",
      "metadata": {
        "colab": {
          "base_uri": "https://localhost:8080/",
          "height": 248
        },
        "id": "rXX7RUxnnhs9",
        "outputId": "26583972-db31-4a2e-a58d-43e35b4c7cc4"
      },
      "source": [
        "\n",
        "#3D Scatter Plot\n",
        "import matplotlib.pyplot as plt\n",
        "fig = plt.figure()\n",
        "ax = fig.add_subplot(111, projection='3d')\n",
        "x =[1,1,1,2,1,2,1,2]\n",
        "y= [4,2,4,1,1,4,1,1]\n",
        "z =[1,2,2,2,1,2,2,1]\n",
        "ax.scatter(x, y, z, c='b', marker='o')\n",
        "ax.set_xlabel('X Label')\n",
        "ax.set_ylabel('Y Label')\n",
        "ax.set_zlabel('Z Label')\n",
        "plt.show()"
      ],
      "execution_count": null,
      "outputs": [
        {
          "output_type": "display_data",
          "data": {
            "image/png": "[encoded data removed]",
            "text/plain": [
              "<Figure size 432x288 with 1 Axes>"
            ]
          },
          "metadata": {
            "tags": [],
            "needs_background": "light"
          }
        }
      ]
    },
    {
      "cell_type": "code",
      "metadata": {
        "colab": {
          "base_uri": "https://localhost:8080/",
          "height": 349
        },
        "id": "SHhyc4C5n3YE",
        "outputId": "34c17265-15ec-434b-e9ba-4110d34a415c"
      },
      "source": [
        "import matplotlib.pyplot as plt\n",
        "import numpy as np\n",
        "from sklearn.cluster import KMeans\n",
        "X = np.array([[5,3],[10,15], [15,12], [24,10], [30,45], [85,70], [71,80], [60,78], [55,52], [80,91],])\n",
        "plt.scatter(X[:,0],X[:,1], label='True Position')\n",
        "kmeans = KMeans(n_clusters=3)\n",
        "kmeans.fit(X)\n",
        "print(kmeans.cluster_centers_)\n",
        "print(kmeans.labels_)\n",
        "plt.scatter(X[:,0],X[:,1], c=kmeans.labels_, cmap='rainbow')\n",
        "plt.scatter(kmeans.cluster_centers_[:,0] ,kmeans.cluster_centers_[:,1], color='black')"
      ],
      "execution_count": null,
      "outputs": [
        {
          "output_type": "stream",
          "text": [
            "[[13.5  10.  ]\n",
            " [74.   79.75]\n",
            " [42.5  48.5 ]]\n",
            "[0 0 0 0 2 1 1 1 2 1]\n"
          ],
          "name": "stdout"
        },
        {
          "output_type": "execute_result",
          "data": {
            "text/plain": [
              "<matplotlib.collections.PathCollection at 0x7f1730b70910>"
            ]
          },
          "metadata": {
            "tags": []
          },
          "execution_count": 23
        },
        {
          "output_type": "display_data",
          "data": {
            "image/png": "[encoded data removed]",
            "text/plain": [
              "<Figure size 432x288 with 1 Axes>"
            ]
          },
          "metadata": {
            "tags": [],
            "needs_background": "light"
          }
        }
      ]
    },
    {
      "cell_type": "code",
      "metadata": {
        "colab": {
          "base_uri": "https://localhost:8080/",
          "height": 322
        },
        "id": "4eQNSghEoIWN",
        "outputId": "7cbc7a1f-4e4e-44e2-c5db-8bb257e46948"
      },
      "source": [
        "#K-means clustering on random generated values using K-means functionalities of  scikit-learn\n",
        "import matplotlib.pyplot as plt\n",
        "import seaborn as sns; sns.set()\n",
        "from sklearn.datasets.samples_generator import make_blobs\n",
        "from sklearn.cluster import KMeans\n",
        "X, y_true = make_blobs(n_samples=300, centers=4, cluster_std=0.60,  random_state=0)\n",
        "plt.scatter(X[:, 0], X[:, 1], s=50);\n",
        "kmeans = KMeans(n_clusters=4)\n",
        "kmeans.fit(X)\n",
        "y_kmeans = kmeans.predict(X)\n",
        "plt.scatter(X[:, 0], X[:, 1], c=y_kmeans, s=50, cmap='viridis')\n",
        "centers = kmeans.cluster_centers_\n",
        "plt.scatter(centers[:, 0], centers[:, 1], c='black', s=200, alpha=0.5);\n"
      ],
      "execution_count": null,
      "outputs": [
        {
          "output_type": "stream",
          "text": [
            "/usr/local/lib/python3.7/dist-packages/sklearn/utils/deprecation.py:144: FutureWarning: The sklearn.datasets.samples_generator module is  deprecated in version 0.22 and will be removed in version 0.24. The corresponding classes / functions should instead be imported from sklearn.datasets. Anything that cannot be imported from sklearn.datasets is now part of the private API.\n",
            "  warnings.warn(message, FutureWarning)\n"
          ],
          "name": "stderr"
        },
        {
          "output_type": "display_data",
          "data": {
            "image/png": "[encoded data removed]",
            "text/plain": [
              "<Figure size 432x288 with 1 Axes>"
            ]
          },
          "metadata": {
            "tags": []
          }
        }
      ]
    }
  ]
}