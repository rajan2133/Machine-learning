{
  "nbformat": 4,
  "nbformat_minor": 0,
  "metadata": {
    "colab": {
      "provenance": []
    },
    "kernelspec": {
      "name": "python3",
      "display_name": "Python 3"
    },
    "language_info": {
      "name": "python"
    }
  },
  "cells": [
    {
      "cell_type": "code",
      "execution_count": null,
      "metadata": {
        "id": "nCUteUZa5Fi5"
      },
      "outputs": [],
      "source": [
        "import numpy as np\n",
        "import pandas as pd"
      ]
    },
    {
      "cell_type": "code",
      "source": [
        "dataset = pd.read_csv('/content/dataset1.csv')"
      ],
      "metadata": {
        "id": "8hnTfmPF5xTW"
      },
      "execution_count": null,
      "outputs": []
    },
    {
      "cell_type": "code",
      "source": [
        "dataset"
      ],
      "metadata": {
        "colab": {
          "base_uri": "https://localhost:8080/",
          "height": 363
        },
        "id": "FIPqmdS954Rs",
        "outputId": "ed0297aa-29eb-454e-99f6-f687992a6b4a"
      },
      "execution_count": null,
      "outputs": [
        {
          "output_type": "execute_result",
          "data": {
            "text/plain": [
              "   Country   Age   Salary Purchased\n",
              "0   France  44.0  72000.0        No\n",
              "1    Spain  27.0  48000.0       Yes\n",
              "2  Germany  30.0  54000.0        No\n",
              "3    Spain  38.0  61000.0        No\n",
              "4  Germany  40.0      NaN       Yes\n",
              "5   France  35.0  58000.0       Yes\n",
              "6    Spain   NaN  52000.0        No\n",
              "7   France  48.0  79000.0       Yes\n",
              "8  Germany  50.0  83000.0        No\n",
              "9   France  37.0  67000.0       Yes"
            ],
            "text/html": [
              "\n",
              "  <div id=\"df-39a12adc-5ebb-4380-9594-acd765386ee0\">\n",
              "    <div class=\"colab-df-container\">\n",
              "      <div>\n",
              "<style scoped>\n",
              "    .dataframe tbody tr th:only-of-type {\n",
              "        vertical-align: middle;\n",
              "    }\n",
              "\n",
              "    .dataframe tbody tr th {\n",
              "        vertical-align: top;\n",
              "    }\n",
              "\n",
              "    .dataframe thead th {\n",
              "        text-align: right;\n",
              "    }\n",
              "</style>\n",
              "<table border=\"1\" class=\"dataframe\">\n",
              "  <thead>\n",
              "    <tr style=\"text-align: right;\">\n",
              "      <th></th>\n",
              "      <th>Country</th>\n",
              "      <th>Age</th>\n",
              "      <th>Salary</th>\n",
              "      <th>Purchased</th>\n",
              "    </tr>\n",
              "  </thead>\n",
              "  <tbody>\n",
              "    <tr>\n",
              "      <th>0</th>\n",
              "      <td>France</td>\n",
              "      <td>44.0</td>\n",
              "      <td>72000.0</td>\n",
              "      <td>No</td>\n",
              "    </tr>\n",
              "    <tr>\n",
              "      <th>1</th>\n",
              "      <td>Spain</td>\n",
              "      <td>27.0</td>\n",
              "      <td>48000.0</td>\n",
              "      <td>Yes</td>\n",
              "    </tr>\n",
              "    <tr>\n",
              "      <th>2</th>\n",
              "      <td>Germany</td>\n",
              "      <td>30.0</td>\n",
              "      <td>54000.0</td>\n",
              "      <td>No</td>\n",
              "    </tr>\n",
              "    <tr>\n",
              "      <th>3</th>\n",
              "      <td>Spain</td>\n",
              "      <td>38.0</td>\n",
              "      <td>61000.0</td>\n",
              "      <td>No</td>\n",
              "    </tr>\n",
              "    <tr>\n",
              "      <th>4</th>\n",
              "      <td>Germany</td>\n",
              "      <td>40.0</td>\n",
              "      <td>NaN</td>\n",
              "      <td>Yes</td>\n",
              "    </tr>\n",
              "    <tr>\n",
              "      <th>5</th>\n",
              "      <td>France</td>\n",
              "      <td>35.0</td>\n",
              "      <td>58000.0</td>\n",
              "      <td>Yes</td>\n",
              "    </tr>\n",
              "    <tr>\n",
              "      <th>6</th>\n",
              "      <td>Spain</td>\n",
              "      <td>NaN</td>\n",
              "      <td>52000.0</td>\n",
              "      <td>No</td>\n",
              "    </tr>\n",
              "    <tr>\n",
              "      <th>7</th>\n",
              "      <td>France</td>\n",
              "      <td>48.0</td>\n",
              "      <td>79000.0</td>\n",
              "      <td>Yes</td>\n",
              "    </tr>\n",
              "    <tr>\n",
              "      <th>8</th>\n",
              "      <td>Germany</td>\n",
              "      <td>50.0</td>\n",
              "      <td>83000.0</td>\n",
              "      <td>No</td>\n",
              "    </tr>\n",
              "    <tr>\n",
              "      <th>9</th>\n",
              "      <td>France</td>\n",
              "      <td>37.0</td>\n",
              "      <td>67000.0</td>\n",
              "      <td>Yes</td>\n",
              "    </tr>\n",
              "  </tbody>\n",
              "</table>\n",
              "</div>\n",
              "      <button class=\"colab-df-convert\" onclick=\"convertToInteractive('df-39a12adc-5ebb-4380-9594-acd765386ee0')\"\n",
              "              title=\"Convert this dataframe to an interactive table.\"\n",
              "              style=\"display:none;\">\n",
              "        \n",
              "  <svg xmlns=\"http://www.w3.org/2000/svg\" height=\"24px\"viewBox=\"0 0 24 24\"\n",
              "       width=\"24px\">\n",
              "    <path d=\"M0 0h24v24H0V0z\" fill=\"none\"/>\n",
              "    <path d=\"M18.56 5.44l.94 2.06.94-2.06 2.06-.94-2.06-.94-.94-2.06-.94 2.06-2.06.94zm-11 1L8.5 8.5l.94-2.06 2.06-.94-2.06-.94L8.5 2.5l-.94 2.06-2.06.94zm10 10l.94 2.06.94-2.06 2.06-.94-2.06-.94-.94-2.06-.94 2.06-2.06.94z\"/><path d=\"M17.41 7.96l-1.37-1.37c-.4-.4-.92-.59-1.43-.59-.52 0-1.04.2-1.43.59L10.3 9.45l-7.72 7.72c-.78.78-.78 2.05 0 2.83L4 21.41c.39.39.9.59 1.41.59.51 0 1.02-.2 1.41-.59l7.78-7.78 2.81-2.81c.8-.78.8-2.07 0-2.86zM5.41 20L4 18.59l7.72-7.72 1.47 1.35L5.41 20z\"/>\n",
              "  </svg>\n",
              "      </button>\n",
              "      \n",
              "  <style>\n",
              "    .colab-df-container {\n",
              "      display:flex;\n",
              "      flex-wrap:wrap;\n",
              "      gap: 12px;\n",
              "    }\n",
              "\n",
              "    .colab-df-convert {\n",
              "      background-color: #E8F0FE;\n",
              "      border: none;\n",
              "      border-radius: 50%;\n",
              "      cursor: pointer;\n",
              "      display: none;\n",
              "      fill: #1967D2;\n",
              "      height: 32px;\n",
              "      padding: 0 0 0 0;\n",
              "      width: 32px;\n",
              "    }\n",
              "\n",
              "    .colab-df-convert:hover {\n",
              "      background-color: #E2EBFA;\n",
              "      box-shadow: 0px 1px 2px rgba(60, 64, 67, 0.3), 0px 1px 3px 1px rgba(60, 64, 67, 0.15);\n",
              "      fill: #174EA6;\n",
              "    }\n",
              "\n",
              "    [theme=dark] .colab-df-convert {\n",
              "      background-color: #3B4455;\n",
              "      fill: #D2E3FC;\n",
              "    }\n",
              "\n",
              "    [theme=dark] .colab-df-convert:hover {\n",
              "      background-color: #434B5C;\n",
              "      box-shadow: 0px 1px 3px 1px rgba(0, 0, 0, 0.15);\n",
              "      filter: drop-shadow(0px 1px 2px rgba(0, 0, 0, 0.3));\n",
              "      fill: #FFFFFF;\n",
              "    }\n",
              "  </style>\n",
              "\n",
              "      <script>\n",
              "        const buttonEl =\n",
              "          document.querySelector('#df-39a12adc-5ebb-4380-9594-acd765386ee0 button.colab-df-convert');\n",
              "        buttonEl.style.display =\n",
              "          google.colab.kernel.accessAllowed ? 'block' : 'none';\n",
              "\n",
              "        async function convertToInteractive(key) {\n",
              "          const element = document.querySelector('#df-39a12adc-5ebb-4380-9594-acd765386ee0');\n",
              "          const dataTable =\n",
              "            await google.colab.kernel.invokeFunction('convertToInteractive',\n",
              "                                                     [key], {});\n",
              "          if (!dataTable) return;\n",
              "\n",
              "          const docLinkHtml = 'Like what you see? Visit the ' +\n",
              "            '<a target=\"_blank\" href=https://colab.research.google.com/notebooks/data_table.ipynb>data table notebook</a>'\n",
              "            + ' to learn more about interactive tables.';\n",
              "          element.innerHTML = '';\n",
              "          dataTable['output_type'] = 'display_data';\n",
              "          await google.colab.output.renderOutput(dataTable, element);\n",
              "          const docLink = document.createElement('div');\n",
              "          docLink.innerHTML = docLinkHtml;\n",
              "          element.appendChild(docLink);\n",
              "        }\n",
              "      </script>\n",
              "    </div>\n",
              "  </div>\n",
              "  "
            ]
          },
          "metadata": {},
          "execution_count": 44
        }
      ]
    },
    {
      "cell_type": "code",
      "source": [
        "dataset.shape"
      ],
      "metadata": {
        "colab": {
          "base_uri": "https://localhost:8080/"
        },
        "id": "3ND8ec3R6OF2",
        "outputId": "db05e19e-1a2a-42a6-d506-a17ea7039aec"
      },
      "execution_count": null,
      "outputs": [
        {
          "output_type": "execute_result",
          "data": {
            "text/plain": [
              "(10, 4)"
            ]
          },
          "metadata": {},
          "execution_count": 45
        }
      ]
    },
    {
      "cell_type": "code",
      "source": [
        "dataset.info()"
      ],
      "metadata": {
        "colab": {
          "base_uri": "https://localhost:8080/"
        },
        "id": "HWtW4QgT55uI",
        "outputId": "9b1af543-0e60-4575-fed9-61d91faa9bdb"
      },
      "execution_count": null,
      "outputs": [
        {
          "output_type": "stream",
          "name": "stdout",
          "text": [
            "<class 'pandas.core.frame.DataFrame'>\n",
            "RangeIndex: 10 entries, 0 to 9\n",
            "Data columns (total 4 columns):\n",
            " #   Column     Non-Null Count  Dtype  \n",
            "---  ------     --------------  -----  \n",
            " 0   Country    10 non-null     object \n",
            " 1   Age        9 non-null      float64\n",
            " 2   Salary     9 non-null      float64\n",
            " 3   Purchased  10 non-null     object \n",
            "dtypes: float64(2), object(2)\n",
            "memory usage: 448.0+ bytes\n"
          ]
        }
      ]
    },
    {
      "cell_type": "code",
      "source": [
        "X = dataset.iloc[:, :-1].values\n",
        "y = dataset.iloc[:, -1].values\n"
      ],
      "metadata": {
        "id": "n7YwOIz-6WqO"
      },
      "execution_count": null,
      "outputs": []
    },
    {
      "cell_type": "code",
      "source": [
        "X"
      ],
      "metadata": {
        "colab": {
          "base_uri": "https://localhost:8080/"
        },
        "id": "ksvkwJhY6Zhi",
        "outputId": "eee8615a-8f5b-49bc-c717-be6d90105b6f"
      },
      "execution_count": null,
      "outputs": [
        {
          "output_type": "execute_result",
          "data": {
            "text/plain": [
              "array([['France', 44.0, 72000.0],\n",
              "       ['Spain', 27.0, 48000.0],\n",
              "       ['Germany', 30.0, 54000.0],\n",
              "       ['Spain', 38.0, 61000.0],\n",
              "       ['Germany', 40.0, nan],\n",
              "       ['France', 35.0, 58000.0],\n",
              "       ['Spain', nan, 52000.0],\n",
              "       ['France', 48.0, 79000.0],\n",
              "       ['Germany', 50.0, 83000.0],\n",
              "       ['France', 37.0, 67000.0]], dtype=object)"
            ]
          },
          "metadata": {},
          "execution_count": 48
        }
      ]
    },
    {
      "cell_type": "code",
      "source": [
        "y"
      ],
      "metadata": {
        "colab": {
          "base_uri": "https://localhost:8080/"
        },
        "id": "my3GPDOq6af5",
        "outputId": "21545681-ec50-45b9-d5ca-28d8daa51d1b"
      },
      "execution_count": null,
      "outputs": [
        {
          "output_type": "execute_result",
          "data": {
            "text/plain": [
              "array(['No', 'Yes', 'No', 'No', 'Yes', 'Yes', 'No', 'Yes', 'No', 'Yes'],\n",
              "      dtype=object)"
            ]
          },
          "metadata": {},
          "execution_count": 49
        }
      ]
    },
    {
      "cell_type": "code",
      "source": [
        "dataset1 = dataset[\"Age\"].mean()\n",
        "print(dataset1)"
      ],
      "metadata": {
        "id": "ntUK-1-s6bxf",
        "colab": {
          "base_uri": "https://localhost:8080/"
        },
        "outputId": "fcba3798-ebd5-41bb-e831-0f244a4f1495"
      },
      "execution_count": null,
      "outputs": [
        {
          "output_type": "stream",
          "name": "stdout",
          "text": [
            "38.77777777777778\n"
          ]
        }
      ]
    },
    {
      "cell_type": "code",
      "source": [
        "dataset1 = dataset[\"Age\"].median()\n",
        "print(dataset1)"
      ],
      "metadata": {
        "colab": {
          "base_uri": "https://localhost:8080/"
        },
        "id": "Cpv9mxxREhud",
        "outputId": "adf13c09-b48d-4e23-94b6-ee8fb7ccae0c"
      },
      "execution_count": null,
      "outputs": [
        {
          "output_type": "stream",
          "name": "stdout",
          "text": [
            "38.0\n"
          ]
        }
      ]
    },
    {
      "cell_type": "code",
      "source": [
        "dataset['Salary'].mode()\n",
        "print(dataset1)"
      ],
      "metadata": {
        "colab": {
          "base_uri": "https://localhost:8080/"
        },
        "id": "FQiMOlHKFGMs",
        "outputId": "90222515-7f69-4b98-b202-d2c7271f7781"
      },
      "execution_count": null,
      "outputs": [
        {
          "output_type": "stream",
          "name": "stdout",
          "text": [
            "38.0\n"
          ]
        }
      ]
    },
    {
      "cell_type": "markdown",
      "source": [
        "# CountVectorizer\n",
        "india aus canada india\n",
        "1      1     1      2\n",
        "\n",
        "india= 2\n",
        "aus=1\n",
        "canada =1\n"
      ],
      "metadata": {
        "id": "crw0lDrt8FR1"
      }
    },
    {
      "cell_type": "code",
      "source": [
        "from sklearn.preprocessing import LabelEncoder\n",
        "labelencoder_X = LabelEncoder()\n",
        "X[:, 0] = labelencoder_X.fit_transform(X[:, 0])\n",
        "print(X)"
      ],
      "metadata": {
        "colab": {
          "base_uri": "https://localhost:8080/"
        },
        "id": "WKyY-MES7uT_",
        "outputId": "269ca94a-af83-47b2-e03e-43c0227040e2"
      },
      "execution_count": null,
      "outputs": [
        {
          "output_type": "stream",
          "name": "stdout",
          "text": [
            "[[0 44.0 72000.0]\n",
            " [2 27.0 48000.0]\n",
            " [1 30.0 54000.0]\n",
            " [2 38.0 61000.0]\n",
            " [1 40.0 nan]\n",
            " [0 35.0 58000.0]\n",
            " [2 nan 52000.0]\n",
            " [0 48.0 79000.0]\n",
            " [1 50.0 83000.0]\n",
            " [0 37.0 67000.0]]\n"
          ]
        }
      ]
    },
    {
      "cell_type": "code",
      "source": [
        "import numpy as np\n",
        "import matplotlib.pyplot as plt\n",
        "import pandas as pd\n",
        "\n",
        "from sklearn.impute import SimpleImputer\n"
      ],
      "metadata": {
        "id": "XDLGNMZE8tVh"
      },
      "execution_count": null,
      "outputs": []
    },
    {
      "cell_type": "code",
      "source": [
        "imputer1 = SimpleImputer(missing_values = np.nan,\n",
        "                        strategy ='mean')\n"
      ],
      "metadata": {
        "id": "XzYjL0gT8tc7"
      },
      "execution_count": null,
      "outputs": []
    },
    {
      "cell_type": "code",
      "source": [
        "imputer1"
      ],
      "metadata": {
        "colab": {
          "base_uri": "https://localhost:8080/"
        },
        "id": "wev6noMh84kj",
        "outputId": "7522f527-f4bc-4d21-a843-789cb5a5fc85"
      },
      "execution_count": null,
      "outputs": [
        {
          "output_type": "execute_result",
          "data": {
            "text/plain": [
              "SimpleImputer()"
            ]
          },
          "metadata": {},
          "execution_count": 56
        }
      ]
    },
    {
      "cell_type": "code",
      "source": [
        "data = [[12, np.nan, 34], [10, 32, np.nan],\n",
        "        [np.nan, 11, 20]]\n"
      ],
      "metadata": {
        "id": "IW8vpWFz85u6"
      },
      "execution_count": null,
      "outputs": []
    },
    {
      "cell_type": "code",
      "source": [
        "data"
      ],
      "metadata": {
        "colab": {
          "base_uri": "https://localhost:8080/"
        },
        "id": "DLDy1WPQ9I1X",
        "outputId": "4e852b1c-e258-4735-a173-2fa0ec298dbe"
      },
      "execution_count": null,
      "outputs": [
        {
          "output_type": "execute_result",
          "data": {
            "text/plain": [
              "[[12, nan, 34], [10, 32, nan], [nan, 11, 20]]"
            ]
          },
          "metadata": {},
          "execution_count": 58
        }
      ]
    },
    {
      "cell_type": "code",
      "source": [
        "print(\"Original Data : \\n\", data)\n",
        "imputer1 = imputer1.fit(data)\n",
        "\n",
        "data = imputer1.transform(data)\n",
        "print(\"Imputed Data : \\n\", data)"
      ],
      "metadata": {
        "colab": {
          "base_uri": "https://localhost:8080/"
        },
        "id": "3Rpk2mxm9JiS",
        "outputId": "44e0ae25-e7d2-4f48-9464-a5384d8d1504"
      },
      "execution_count": null,
      "outputs": [
        {
          "output_type": "stream",
          "name": "stdout",
          "text": [
            "Original Data : \n",
            " [[12, nan, 34], [10, 32, nan], [nan, 11, 20]]\n",
            "Imputed Data : \n",
            " [[12.  21.5 34. ]\n",
            " [10.  32.  27. ]\n",
            " [11.  11.  20. ]]\n"
          ]
        }
      ]
    },
    {
      "cell_type": "code",
      "source": [
        "dataset = pd.read_csv('/content/dataset2.csv')\n",
        "X = dataset.iloc[:, :].values"
      ],
      "metadata": {
        "id": "6PtTMC3m-Cmb"
      },
      "execution_count": null,
      "outputs": []
    },
    {
      "cell_type": "code",
      "source": [
        "X"
      ],
      "metadata": {
        "id": "iYHMrmnz-3X8",
        "colab": {
          "base_uri": "https://localhost:8080/"
        },
        "outputId": "be30dfa4-e945-467f-86ba-5eeea6fc56bd"
      },
      "execution_count": null,
      "outputs": [
        {
          "output_type": "execute_result",
          "data": {
            "text/plain": [
              "array([['Sunny', 1, 'Sunny'],\n",
              "       ['Sunny', 2, 'Sunny'],\n",
              "       ['Overcast', 3, 'Overcast'],\n",
              "       ['Rain', 4, 'Rain'],\n",
              "       ['Rain', 5, 'Rain'],\n",
              "       ['Rain', 2, 'Rain'],\n",
              "       ['Overcast', 3, 'Overcast'],\n",
              "       ['Sunny', 1, 'Sunny'],\n",
              "       ['Sunny', 2, 'Sunny'],\n",
              "       ['Rain', 3, 'Rain'],\n",
              "       ['Sunny', 4, 'Sunny'],\n",
              "       ['Overcast', 2, 'Overcast'],\n",
              "       ['Overcast', 1, 'Overcast'],\n",
              "       ['Rain', 3, 'Rain']], dtype=object)"
            ]
          },
          "metadata": {},
          "execution_count": 61
        }
      ]
    },
    {
      "cell_type": "code",
      "source": [
        "from sklearn.preprocessing import LabelEncoder, OneHotEncoder\n",
        "from sklearn.compose import ColumnTransformer\n"
      ],
      "metadata": {
        "id": "m93L1c2C-9Fa"
      },
      "execution_count": null,
      "outputs": []
    },
    {
      "cell_type": "code",
      "source": [
        "transform =  ColumnTransformer([(\"Col 0\",OneHotEncoder(),[0])],\n",
        "                                remainder = 'passthrough')\n",
        "X = transform.fit_transform(X)\n"
      ],
      "metadata": {
        "id": "DkNhiyFh_Ahp"
      },
      "execution_count": null,
      "outputs": []
    },
    {
      "cell_type": "code",
      "source": [
        "X"
      ],
      "metadata": {
        "id": "nRJ74K2T-5Ac",
        "colab": {
          "base_uri": "https://localhost:8080/"
        },
        "outputId": "42ddda08-0fb0-4776-d2c8-fe6c0db2b56b"
      },
      "execution_count": null,
      "outputs": [
        {
          "output_type": "execute_result",
          "data": {
            "text/plain": [
              "array([[0.0, 0.0, 1.0, 1, 'Sunny'],\n",
              "       [0.0, 0.0, 1.0, 2, 'Sunny'],\n",
              "       [1.0, 0.0, 0.0, 3, 'Overcast'],\n",
              "       [0.0, 1.0, 0.0, 4, 'Rain'],\n",
              "       [0.0, 1.0, 0.0, 5, 'Rain'],\n",
              "       [0.0, 1.0, 0.0, 2, 'Rain'],\n",
              "       [1.0, 0.0, 0.0, 3, 'Overcast'],\n",
              "       [0.0, 0.0, 1.0, 1, 'Sunny'],\n",
              "       [0.0, 0.0, 1.0, 2, 'Sunny'],\n",
              "       [0.0, 1.0, 0.0, 3, 'Rain'],\n",
              "       [0.0, 0.0, 1.0, 4, 'Sunny'],\n",
              "       [1.0, 0.0, 0.0, 2, 'Overcast'],\n",
              "       [1.0, 0.0, 0.0, 1, 'Overcast'],\n",
              "       [0.0, 1.0, 0.0, 3, 'Rain']], dtype=object)"
            ]
          },
          "metadata": {},
          "execution_count": 64
        }
      ]
    },
    {
      "cell_type": "code",
      "source": [
        "transform =  ColumnTransformer([(\"Column 4 converted\",OneHotEncoder(),[4])],\n",
        "                                remainder = 'passthrough')\n",
        "X = transform.fit_transform(X)"
      ],
      "metadata": {
        "id": "onSJ6QrD_tW0"
      },
      "execution_count": null,
      "outputs": []
    },
    {
      "cell_type": "code",
      "source": [
        "X"
      ],
      "metadata": {
        "id": "A7feXlZJ_vA7",
        "colab": {
          "base_uri": "https://localhost:8080/"
        },
        "outputId": "53f13eda-5af4-4105-b009-e2658c236988"
      },
      "execution_count": null,
      "outputs": [
        {
          "output_type": "execute_result",
          "data": {
            "text/plain": [
              "array([[0.0, 0.0, 1.0, 0.0, 0.0, 1.0, 1],\n",
              "       [0.0, 0.0, 1.0, 0.0, 0.0, 1.0, 2],\n",
              "       [1.0, 0.0, 0.0, 1.0, 0.0, 0.0, 3],\n",
              "       [0.0, 1.0, 0.0, 0.0, 1.0, 0.0, 4],\n",
              "       [0.0, 1.0, 0.0, 0.0, 1.0, 0.0, 5],\n",
              "       [0.0, 1.0, 0.0, 0.0, 1.0, 0.0, 2],\n",
              "       [1.0, 0.0, 0.0, 1.0, 0.0, 0.0, 3],\n",
              "       [0.0, 0.0, 1.0, 0.0, 0.0, 1.0, 1],\n",
              "       [0.0, 0.0, 1.0, 0.0, 0.0, 1.0, 2],\n",
              "       [0.0, 1.0, 0.0, 0.0, 1.0, 0.0, 3],\n",
              "       [0.0, 0.0, 1.0, 0.0, 0.0, 1.0, 4],\n",
              "       [1.0, 0.0, 0.0, 1.0, 0.0, 0.0, 2],\n",
              "       [1.0, 0.0, 0.0, 1.0, 0.0, 0.0, 1],\n",
              "       [0.0, 1.0, 0.0, 0.0, 1.0, 0.0, 3]], dtype=object)"
            ]
          },
          "metadata": {},
          "execution_count": 66
        }
      ]
    },
    {
      "cell_type": "code",
      "source": [
        "transform =  ColumnTransformer([(\"Outlook_OL0_OL1\",OneHotEncoder(),[6])],\n",
        "                                remainder = 'passthrough')\n",
        "X = transform.fit_transform(X)\n",
        "print(X.astype(int))"
      ],
      "metadata": {
        "id": "WyZKhN4JAr3s",
        "colab": {
          "base_uri": "https://localhost:8080/"
        },
        "outputId": "1b2e5959-60f4-4f9a-f1f5-c60ea4e5c7aa"
      },
      "execution_count": null,
      "outputs": [
        {
          "output_type": "stream",
          "name": "stdout",
          "text": [
            "[[1 0 0 0 0 0 0 1 0 0 1]\n",
            " [0 1 0 0 0 0 0 1 0 0 1]\n",
            " [0 0 1 0 0 1 0 0 1 0 0]\n",
            " [0 0 0 1 0 0 1 0 0 1 0]\n",
            " [0 0 0 0 1 0 1 0 0 1 0]\n",
            " [0 1 0 0 0 0 1 0 0 1 0]\n",
            " [0 0 1 0 0 1 0 0 1 0 0]\n",
            " [1 0 0 0 0 0 0 1 0 0 1]\n",
            " [0 1 0 0 0 0 0 1 0 0 1]\n",
            " [0 0 1 0 0 0 1 0 0 1 0]\n",
            " [0 0 0 1 0 0 0 1 0 0 1]\n",
            " [0 1 0 0 0 1 0 0 1 0 0]\n",
            " [1 0 0 0 0 1 0 0 1 0 0]\n",
            " [0 0 1 0 0 0 1 0 0 1 0]]\n"
          ]
        }
      ]
    },
    {
      "cell_type": "code",
      "source": [
        "dataset = pd.read_csv('dataset1.csv')\n",
        "dataset.shape\n",
        "\n",
        "dataset.info()\n",
        "\n",
        "X = dataset.iloc[:, :-1].values\n",
        "y = dataset.iloc[:, -1].values\n",
        "\n",
        "from sklearn.impute import SimpleImputer\n",
        "imputer = SimpleImputer(missing_values = np.nan, strategy = 'mean')\n",
        "imputer = imputer.fit(X[:, 1:3])\n",
        "X[:, 1:3] = imputer.transform(X[:, 1:3])\n",
        "\n",
        "from sklearn.preprocessing import LabelEncoder\n",
        "labelencoder_X = LabelEncoder()\n",
        "X[:, 0] = labelencoder_X.fit_transform(X[:, 0])\n",
        "print(X)\n",
        "\n",
        "from sklearn.model_selection import train_test_split\n",
        "X_train, X_test, Y_train, Y_test = train_test_split(X, y, test_size = 0.2, random_state = 0)\n"
      ],
      "metadata": {
        "colab": {
          "base_uri": "https://localhost:8080/"
        },
        "id": "KPvWHwG3AyfV",
        "outputId": "0c904170-4526-446f-81bc-cc8a0afe78ff"
      },
      "execution_count": null,
      "outputs": [
        {
          "output_type": "stream",
          "name": "stdout",
          "text": [
            "<class 'pandas.core.frame.DataFrame'>\n",
            "RangeIndex: 10 entries, 0 to 9\n",
            "Data columns (total 4 columns):\n",
            " #   Column     Non-Null Count  Dtype  \n",
            "---  ------     --------------  -----  \n",
            " 0   Country    10 non-null     object \n",
            " 1   Age        9 non-null      float64\n",
            " 2   Salary     9 non-null      float64\n",
            " 3   Purchased  10 non-null     object \n",
            "dtypes: float64(2), object(2)\n",
            "memory usage: 448.0+ bytes\n",
            "[[0 44.0 72000.0]\n",
            " [2 27.0 48000.0]\n",
            " [1 30.0 54000.0]\n",
            " [2 38.0 61000.0]\n",
            " [1 40.0 63777.77777777778]\n",
            " [0 35.0 58000.0]\n",
            " [2 38.77777777777778 52000.0]\n",
            " [0 48.0 79000.0]\n",
            " [1 50.0 83000.0]\n",
            " [0 37.0 67000.0]]\n"
          ]
        }
      ]
    },
    {
      "cell_type": "code",
      "source": [
        "from sklearn.preprocessing import StandardScaler\n",
        "sc_X = StandardScaler()\n",
        "X_train = sc_X.fit_transform(X_train)\n",
        "X_test = sc_X.transform(X_test)"
      ],
      "metadata": {
        "id": "-FsuL-lWjvYc"
      },
      "execution_count": null,
      "outputs": []
    },
    {
      "cell_type": "code",
      "source": [
        "X_test"
      ],
      "metadata": {
        "colab": {
          "base_uri": "https://localhost:8080/"
        },
        "id": "Lm8yQ1tgkyPx",
        "outputId": "edf85937-a65a-4edd-981e-802b6933fb76"
      },
      "execution_count": null,
      "outputs": [
        {
          "output_type": "execute_result",
          "data": {
            "text/plain": [
              "array([[ 0.13483997, -1.45882927, -0.90166297],\n",
              "       [ 0.13483997,  1.98496442,  2.13981082]])"
            ]
          },
          "metadata": {},
          "execution_count": 70
        }
      ]
    },
    {
      "cell_type": "code",
      "source": [
        "X_train"
      ],
      "metadata": {
        "colab": {
          "base_uri": "https://localhost:8080/"
        },
        "id": "bLr5E1W7kw5G",
        "outputId": "e91d8559-60e8-429f-8036-1a90f49729c5"
      },
      "execution_count": null,
      "outputs": [
        {
          "output_type": "execute_result",
          "data": {
            "text/plain": [
              "array([[ 0.13483997,  0.26306757,  0.12381479],\n",
              "       [-0.94387981, -0.25350148,  0.46175632],\n",
              "       [ 1.21355975, -1.97539832, -1.53093341],\n",
              "       [ 1.21355975,  0.05261351, -1.11141978],\n",
              "       [-0.94387981,  1.64058505,  1.7202972 ],\n",
              "       [ 1.21355975, -0.0813118 , -0.16751412],\n",
              "       [-0.94387981,  0.95182631,  0.98614835],\n",
              "       [-0.94387981, -0.59788085, -0.48214934]])"
            ]
          },
          "metadata": {},
          "execution_count": 71
        }
      ]
    }
  ]
}