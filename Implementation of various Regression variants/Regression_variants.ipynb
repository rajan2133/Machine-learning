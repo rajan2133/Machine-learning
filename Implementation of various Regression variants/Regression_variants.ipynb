{
  "nbformat": 4,
  "nbformat_minor": 0,
  "metadata": {
    "colab": {
      "provenance": []
    },
    "kernelspec": {
      "name": "python3",
      "display_name": "Python 3"
    }
  },
  "cells": [
    {
      "cell_type": "markdown",
      "source": [
        "# AIM: Implementation of various Regression variants\n",
        "\n",
        "\n",
        "1.   Linear Regression\n",
        "2. Multi-linear regression\n",
        "3. POLY -linear regressio\n",
        "\n",
        "\n",
        "\n",
        "\n",
        "\n",
        "\n",
        "\n"
      ],
      "metadata": {
        "id": "XtLXbROA2D39"
      }
    },
    {
      "cell_type": "code",
      "metadata": {
        "id": "_3gH2LOtxgt2"
      },
      "source": [
        "import numpy as np\n",
        "import matplotlib.pyplot as plt\n",
        "import pandas as pd\n",
        "\n",
        "dataset = pd.read_csv('/content/dataset5.csv')\n",
        "\n",
        "X = dataset.iloc[:, 1:2].values\n",
        "Y = dataset.iloc[:, -1].values"
      ],
      "execution_count": null,
      "outputs": []
    },
    {
      "cell_type": "code",
      "metadata": {
        "colab": {
          "base_uri": "https://localhost:8080/"
        },
        "id": "yOmO0derxv8c",
        "outputId": "3d354a51-dcdc-42e9-dfe2-d69d3ff6df13"
      },
      "source": [
        "X"
      ],
      "execution_count": null,
      "outputs": [
        {
          "output_type": "execute_result",
          "data": {
            "text/plain": [
              "array([[ 1],\n",
              "       [ 2],\n",
              "       [ 3],\n",
              "       [ 4],\n",
              "       [ 5],\n",
              "       [ 6],\n",
              "       [ 7],\n",
              "       [ 8],\n",
              "       [ 9],\n",
              "       [10]])"
            ]
          },
          "metadata": {},
          "execution_count": 2
        }
      ]
    },
    {
      "cell_type": "code",
      "metadata": {
        "colab": {
          "base_uri": "https://localhost:8080/"
        },
        "id": "9ckuzx5Mx2ta",
        "outputId": "b118b8f7-4ce6-4879-caf5-4ab00ad499f9"
      },
      "source": [
        "Y"
      ],
      "execution_count": null,
      "outputs": [
        {
          "output_type": "execute_result",
          "data": {
            "text/plain": [
              "array([  45000,   50000,   60000,   80000,  110000,  150000,  200000,\n",
              "        300000,  500000, 1000000])"
            ]
          },
          "metadata": {},
          "execution_count": 3
        }
      ]
    },
    {
      "cell_type": "code",
      "metadata": {
        "colab": {
          "base_uri": "https://localhost:8080/"
        },
        "id": "OhbRyARax4Kp",
        "outputId": "0d7e71e6-2ea1-4661-b579-1cee4dca4670"
      },
      "source": [
        "from sklearn.linear_model import LinearRegression\n",
        "lin_reg = LinearRegression()\n",
        "lin_reg.fit(X, Y)"
      ],
      "execution_count": null,
      "outputs": [
        {
          "output_type": "execute_result",
          "data": {
            "text/plain": [
              "LinearRegression()"
            ]
          },
          "metadata": {},
          "execution_count": 4
        }
      ]
    },
    {
      "cell_type": "code",
      "metadata": {
        "colab": {
          "base_uri": "https://localhost:8080/",
          "height": 295
        },
        "id": "OmCROwjDx8ng",
        "outputId": "78bce053-4512-4d2a-c18e-a79b7460b836"
      },
      "source": [
        "plt.scatter(X, Y, color = 'red')\n",
        "plt.plot(X, lin_reg.predict(X), color = 'blue')\n",
        "plt.title('Truth or Bluffn(Linear Regression')\n",
        "plt.xlabel('Position Label')\n",
        "plt.ylabel('Salary')\n",
        "plt.show()"
      ],
      "execution_count": null,
      "outputs": [
        {
          "output_type": "display_data",
          "data": {
            "text/plain": [
              "<Figure size 432x288 with 1 Axes>"
            ],
            "image/png": "[encoded data removed]"
          },
          "metadata": {
            "needs_background": "light"
          }
        }
      ]
    },
    {
      "cell_type": "code",
      "metadata": {
        "colab": {
          "base_uri": "https://localhost:8080/"
        },
        "id": "fEuqh05cx_9S",
        "outputId": "c3cc58e2-555e-4b66-c7bc-3dba84aadebc"
      },
      "source": [
        "from sklearn.preprocessing import PolynomialFeatures\n",
        "poly_reg = PolynomialFeatures(degree = 10)\n",
        "X_poly = poly_reg.fit_transform(X)\n",
        "lin_reg_2 = LinearRegression()\n",
        "lin_reg_2.fit(X_poly, Y)"
      ],
      "execution_count": null,
      "outputs": [
        {
          "output_type": "execute_result",
          "data": {
            "text/plain": [
              "LinearRegression()"
            ]
          },
          "metadata": {},
          "execution_count": 6
        }
      ]
    },
    {
      "cell_type": "code",
      "metadata": {
        "colab": {
          "base_uri": "https://localhost:8080/",
          "height": 295
        },
        "id": "HS3CxSZoyD4B",
        "outputId": "8d470ace-1cc0-4473-a889-24598d30840a"
      },
      "source": [
        "plt.scatter(X, Y, color = 'red')\n",
        "plt.plot(X, lin_reg_2.predict(poly_reg.fit_transform(X)), color = 'blue')\n",
        "plt.title('Truth or Bluffn(Polynomial Regression')\n",
        "plt.xlabel('Position Label')\n",
        "plt.ylabel('Salary')\n",
        "plt.show()"
      ],
      "execution_count": null,
      "outputs": [
        {
          "output_type": "display_data",
          "data": {
            "text/plain": [
              "<Figure size 432x288 with 1 Axes>"
            ],
            "image/png": "[encoded data removed]"
          },
          "metadata": {
            "needs_background": "light"
          }
        }
      ]
    },
    {
      "cell_type": "code",
      "metadata": {
        "colab": {
          "base_uri": "https://localhost:8080/"
        },
        "id": "AESCvFnnypZ4",
        "outputId": "fe7ac413-df50-4210-f1b0-3fa0fda0a84a"
      },
      "source": [
        "X"
      ],
      "execution_count": null,
      "outputs": [
        {
          "output_type": "execute_result",
          "data": {
            "text/plain": [
              "array([[ 1],\n",
              "       [ 2],\n",
              "       [ 3],\n",
              "       [ 4],\n",
              "       [ 5],\n",
              "       [ 6],\n",
              "       [ 7],\n",
              "       [ 8],\n",
              "       [ 9],\n",
              "       [10]])"
            ]
          },
          "metadata": {},
          "execution_count": 8
        }
      ]
    },
    {
      "cell_type": "code",
      "metadata": {
        "colab": {
          "base_uri": "https://localhost:8080/"
        },
        "id": "6piWi3YYywFZ",
        "outputId": "1ae5eccb-7806-44af-d638-7adb7263fe82"
      },
      "source": [
        "X_poly"
      ],
      "execution_count": null,
      "outputs": [
        {
          "output_type": "execute_result",
          "data": {
            "text/plain": [
              "array([[1.00000000e+00, 1.00000000e+00, 1.00000000e+00, 1.00000000e+00,\n",
              "        1.00000000e+00, 1.00000000e+00, 1.00000000e+00, 1.00000000e+00,\n",
              "        1.00000000e+00, 1.00000000e+00, 1.00000000e+00],\n",
              "       [1.00000000e+00, 2.00000000e+00, 4.00000000e+00, 8.00000000e+00,\n",
              "        1.60000000e+01, 3.20000000e+01, 6.40000000e+01, 1.28000000e+02,\n",
              "        2.56000000e+02, 5.12000000e+02, 1.02400000e+03],\n",
              "       [1.00000000e+00, 3.00000000e+00, 9.00000000e+00, 2.70000000e+01,\n",
              "        8.10000000e+01, 2.43000000e+02, 7.29000000e+02, 2.18700000e+03,\n",
              "        6.56100000e+03, 1.96830000e+04, 5.90490000e+04],\n",
              "       [1.00000000e+00, 4.00000000e+00, 1.60000000e+01, 6.40000000e+01,\n",
              "        2.56000000e+02, 1.02400000e+03, 4.09600000e+03, 1.63840000e+04,\n",
              "        6.55360000e+04, 2.62144000e+05, 1.04857600e+06],\n",
              "       [1.00000000e+00, 5.00000000e+00, 2.50000000e+01, 1.25000000e+02,\n",
              "        6.25000000e+02, 3.12500000e+03, 1.56250000e+04, 7.81250000e+04,\n",
              "        3.90625000e+05, 1.95312500e+06, 9.76562500e+06],\n",
              "       [1.00000000e+00, 6.00000000e+00, 3.60000000e+01, 2.16000000e+02,\n",
              "        1.29600000e+03, 7.77600000e+03, 4.66560000e+04, 2.79936000e+05,\n",
              "        1.67961600e+06, 1.00776960e+07, 6.04661760e+07],\n",
              "       [1.00000000e+00, 7.00000000e+00, 4.90000000e+01, 3.43000000e+02,\n",
              "        2.40100000e+03, 1.68070000e+04, 1.17649000e+05, 8.23543000e+05,\n",
              "        5.76480100e+06, 4.03536070e+07, 2.82475249e+08],\n",
              "       [1.00000000e+00, 8.00000000e+00, 6.40000000e+01, 5.12000000e+02,\n",
              "        4.09600000e+03, 3.27680000e+04, 2.62144000e+05, 2.09715200e+06,\n",
              "        1.67772160e+07, 1.34217728e+08, 1.07374182e+09],\n",
              "       [1.00000000e+00, 9.00000000e+00, 8.10000000e+01, 7.29000000e+02,\n",
              "        6.56100000e+03, 5.90490000e+04, 5.31441000e+05, 4.78296900e+06,\n",
              "        4.30467210e+07, 3.87420489e+08, 3.48678440e+09],\n",
              "       [1.00000000e+00, 1.00000000e+01, 1.00000000e+02, 1.00000000e+03,\n",
              "        1.00000000e+04, 1.00000000e+05, 1.00000000e+06, 1.00000000e+07,\n",
              "        1.00000000e+08, 1.00000000e+09, 1.00000000e+10]])"
            ]
          },
          "metadata": {},
          "execution_count": 9
        }
      ]
    },
    {
      "cell_type": "code",
      "metadata": {
        "colab": {
          "base_uri": "https://localhost:8080/"
        },
        "id": "BRcrE5Lyy7l2",
        "outputId": "c6604886-0496-4920-e4ba-9f445b7f23a2"
      },
      "source": [
        "np.round(X_poly,0) *10"
      ],
      "execution_count": null,
      "outputs": [
        {
          "output_type": "execute_result",
          "data": {
            "text/plain": [
              "array([[1.00000000e+01, 1.00000000e+01, 1.00000000e+01, 1.00000000e+01,\n",
              "        1.00000000e+01, 1.00000000e+01, 1.00000000e+01, 1.00000000e+01,\n",
              "        1.00000000e+01, 1.00000000e+01, 1.00000000e+01],\n",
              "       [1.00000000e+01, 2.00000000e+01, 4.00000000e+01, 8.00000000e+01,\n",
              "        1.60000000e+02, 3.20000000e+02, 6.40000000e+02, 1.28000000e+03,\n",
              "        2.56000000e+03, 5.12000000e+03, 1.02400000e+04],\n",
              "       [1.00000000e+01, 3.00000000e+01, 9.00000000e+01, 2.70000000e+02,\n",
              "        8.10000000e+02, 2.43000000e+03, 7.29000000e+03, 2.18700000e+04,\n",
              "        6.56100000e+04, 1.96830000e+05, 5.90490000e+05],\n",
              "       [1.00000000e+01, 4.00000000e+01, 1.60000000e+02, 6.40000000e+02,\n",
              "        2.56000000e+03, 1.02400000e+04, 4.09600000e+04, 1.63840000e+05,\n",
              "        6.55360000e+05, 2.62144000e+06, 1.04857600e+07],\n",
              "       [1.00000000e+01, 5.00000000e+01, 2.50000000e+02, 1.25000000e+03,\n",
              "        6.25000000e+03, 3.12500000e+04, 1.56250000e+05, 7.81250000e+05,\n",
              "        3.90625000e+06, 1.95312500e+07, 9.76562500e+07],\n",
              "       [1.00000000e+01, 6.00000000e+01, 3.60000000e+02, 2.16000000e+03,\n",
              "        1.29600000e+04, 7.77600000e+04, 4.66560000e+05, 2.79936000e+06,\n",
              "        1.67961600e+07, 1.00776960e+08, 6.04661760e+08],\n",
              "       [1.00000000e+01, 7.00000000e+01, 4.90000000e+02, 3.43000000e+03,\n",
              "        2.40100000e+04, 1.68070000e+05, 1.17649000e+06, 8.23543000e+06,\n",
              "        5.76480100e+07, 4.03536070e+08, 2.82475249e+09],\n",
              "       [1.00000000e+01, 8.00000000e+01, 6.40000000e+02, 5.12000000e+03,\n",
              "        4.09600000e+04, 3.27680000e+05, 2.62144000e+06, 2.09715200e+07,\n",
              "        1.67772160e+08, 1.34217728e+09, 1.07374182e+10],\n",
              "       [1.00000000e+01, 9.00000000e+01, 8.10000000e+02, 7.29000000e+03,\n",
              "        6.56100000e+04, 5.90490000e+05, 5.31441000e+06, 4.78296900e+07,\n",
              "        4.30467210e+08, 3.87420489e+09, 3.48678440e+10],\n",
              "       [1.00000000e+01, 1.00000000e+02, 1.00000000e+03, 1.00000000e+04,\n",
              "        1.00000000e+05, 1.00000000e+06, 1.00000000e+07, 1.00000000e+08,\n",
              "        1.00000000e+09, 1.00000000e+10, 1.00000000e+11]])"
            ]
          },
          "metadata": {},
          "execution_count": 10
        }
      ]
    },
    {
      "cell_type": "code",
      "metadata": {
        "colab": {
          "base_uri": "https://localhost:8080/"
        },
        "id": "pVy5pB5iyH5K",
        "outputId": "6026fed0-7e40-4e51-bb79-ddb60cebb46d"
      },
      "source": [
        "lin_reg.predict([[11]])\n",
        "\n",
        "lin_reg_2.predict(poly_reg.fit_transform([[6.5]]))"
      ],
      "execution_count": null,
      "outputs": [
        {
          "output_type": "execute_result",
          "data": {
            "text/plain": [
              "array([172421.91745564])"
            ]
          },
          "metadata": {},
          "execution_count": 11
        }
      ]
    },
    {
      "cell_type": "code",
      "metadata": {
        "colab": {
          "base_uri": "https://localhost:8080/"
        },
        "id": "j6tyRYL7yJ4Q",
        "outputId": "7e392065-ba68-489b-96dc-0c3797eb0c99"
      },
      "source": [
        "from sklearn.metrics import classification_report\n",
        "print(classification_report(Y,Y))"
      ],
      "execution_count": null,
      "outputs": [
        {
          "output_type": "stream",
          "name": "stdout",
          "text": [
            "              precision    recall  f1-score   support\n",
            "\n",
            "       45000       1.00      1.00      1.00         1\n",
            "       50000       1.00      1.00      1.00         1\n",
            "       60000       1.00      1.00      1.00         1\n",
            "       80000       1.00      1.00      1.00         1\n",
            "      110000       1.00      1.00      1.00         1\n",
            "      150000       1.00      1.00      1.00         1\n",
            "      200000       1.00      1.00      1.00         1\n",
            "      300000       1.00      1.00      1.00         1\n",
            "      500000       1.00      1.00      1.00         1\n",
            "     1000000       1.00      1.00      1.00         1\n",
            "\n",
            "    accuracy                           1.00        10\n",
            "   macro avg       1.00      1.00      1.00        10\n",
            "weighted avg       1.00      1.00      1.00        10\n",
            "\n"
          ]
        }
      ]
    }
  ]
}