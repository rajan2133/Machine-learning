{
  "nbformat": 4,
  "nbformat_minor": 0,
  "metadata": {
    "colab": {
      "provenance": []
    },
    "kernelspec": {
      "name": "python3",
      "display_name": "Python 3"
    }
  },
  "cells": [
    {
      "cell_type": "code",
      "metadata": {
        "id": "ac4WPGteQRH3"
      },
      "source": [
        "import numpy as np\n",
        "import matplotlib.pyplot as plt\n",
        "import pandas as pd"
      ],
      "execution_count": null,
      "outputs": []
    },
    {
      "cell_type": "code",
      "metadata": {
        "id": "dzUNS_lsQaRD"
      },
      "source": [
        "dataset = pd.read_csv('/content/Wine.CSV')"
      ],
      "execution_count": null,
      "outputs": []
    },
    {
      "cell_type": "code",
      "metadata": {
        "colab": {
          "base_uri": "https://localhost:8080/",
          "height": 427
        },
        "id": "o_osgGqTGu9Y",
        "outputId": "c40dd043-1c8e-4ed2-b774-b3ac3fc1d4ce"
      },
      "source": [
        "dataset.sample(10)"
      ],
      "execution_count": null,
      "outputs": [
        {
          "output_type": "execute_result",
          "data": {
            "text/plain": [
              "     Alcohol  Malic_Acid   Ash  Ash_Alcanity  Magnesium  Total_Phenols  \\\n",
              "162    12.85        3.27  2.58          22.0        106           1.65   \n",
              "158    14.34        1.68  2.70          25.0         98           2.80   \n",
              "30     13.73        1.50  2.70          22.5        101           3.00   \n",
              "109    11.61        1.35  2.70          20.0         94           2.74   \n",
              "102    12.34        2.45  2.46          21.0         98           2.56   \n",
              "130    12.86        1.35  2.32          18.0        122           1.51   \n",
              "45     14.21        4.04  2.44          18.9        111           2.85   \n",
              "138    13.49        3.59  2.19          19.5         88           1.62   \n",
              "66     13.11        1.01  1.70          15.0         78           2.98   \n",
              "48     14.10        2.02  2.40          18.8        103           2.75   \n",
              "\n",
              "     Flavanoids  Nonflavanoid_Phenols  Proanthocyanins  Color_Intensity   Hue  \\\n",
              "162        0.60                  0.60             0.96             5.58  0.87   \n",
              "158        1.31                  0.53             2.70            13.00  0.57   \n",
              "30         3.25                  0.29             2.38             5.70  1.19   \n",
              "109        2.92                  0.29             2.49             2.65  0.96   \n",
              "102        2.11                  0.34             1.31             2.80  0.80   \n",
              "130        1.25                  0.21             0.94             4.10  0.76   \n",
              "45         2.65                  0.30             1.25             5.24  0.87   \n",
              "138        0.48                  0.58             0.88             5.70  0.81   \n",
              "66         3.18                  0.26             2.28             5.30  1.12   \n",
              "48         2.92                  0.32             2.38             6.20  1.07   \n",
              "\n",
              "     OD280  Proline  Customer_Segment  \n",
              "162   2.11      570                 3  \n",
              "158   1.96      660                 3  \n",
              "30    2.71     1285                 1  \n",
              "109   3.26      680                 2  \n",
              "102   3.38      438                 2  \n",
              "130   1.29      630                 3  \n",
              "45    3.33     1080                 1  \n",
              "138   1.82      580                 3  \n",
              "66    3.18      502                 2  \n",
              "48    2.75     1060                 1  "
            ],
            "text/html": [
              "\n",
              "  <div id=\"df-6dca45e2-f3c8-4698-87db-9d7335a2fcf3\">\n",
              "    <div class=\"colab-df-container\">\n",
              "      <div>\n",
              "<style scoped>\n",
              "    .dataframe tbody tr th:only-of-type {\n",
              "        vertical-align: middle;\n",
              "    }\n",
              "\n",
              "    .dataframe tbody tr th {\n",
              "        vertical-align: top;\n",
              "    }\n",
              "\n",
              "    .dataframe thead th {\n",
              "        text-align: right;\n",
              "    }\n",
              "</style>\n",
              "<table border=\"1\" class=\"dataframe\">\n",
              "  <thead>\n",
              "    <tr style=\"text-align: right;\">\n",
              "      <th></th>\n",
              "      <th>Alcohol</th>\n",
              "      <th>Malic_Acid</th>\n",
              "      <th>Ash</th>\n",
              "      <th>Ash_Alcanity</th>\n",
              "      <th>Magnesium</th>\n",
              "      <th>Total_Phenols</th>\n",
              "      <th>Flavanoids</th>\n",
              "      <th>Nonflavanoid_Phenols</th>\n",
              "      <th>Proanthocyanins</th>\n",
              "      <th>Color_Intensity</th>\n",
              "      <th>Hue</th>\n",
              "      <th>OD280</th>\n",
              "      <th>Proline</th>\n",
              "      <th>Customer_Segment</th>\n",
              "    </tr>\n",
              "  </thead>\n",
              "  <tbody>\n",
              "    <tr>\n",
              "      <th>162</th>\n",
              "      <td>12.85</td>\n",
              "      <td>3.27</td>\n",
              "      <td>2.58</td>\n",
              "      <td>22.0</td>\n",
              "      <td>106</td>\n",
              "      <td>1.65</td>\n",
              "      <td>0.60</td>\n",
              "      <td>0.60</td>\n",
              "      <td>0.96</td>\n",
              "      <td>5.58</td>\n",
              "      <td>0.87</td>\n",
              "      <td>2.11</td>\n",
              "      <td>570</td>\n",
              "      <td>3</td>\n",
              "    </tr>\n",
              "    <tr>\n",
              "      <th>158</th>\n",
              "      <td>14.34</td>\n",
              "      <td>1.68</td>\n",
              "      <td>2.70</td>\n",
              "      <td>25.0</td>\n",
              "      <td>98</td>\n",
              "      <td>2.80</td>\n",
              "      <td>1.31</td>\n",
              "      <td>0.53</td>\n",
              "      <td>2.70</td>\n",
              "      <td>13.00</td>\n",
              "      <td>0.57</td>\n",
              "      <td>1.96</td>\n",
              "      <td>660</td>\n",
              "      <td>3</td>\n",
              "    </tr>\n",
              "    <tr>\n",
              "      <th>30</th>\n",
              "      <td>13.73</td>\n",
              "      <td>1.50</td>\n",
              "      <td>2.70</td>\n",
              "      <td>22.5</td>\n",
              "      <td>101</td>\n",
              "      <td>3.00</td>\n",
              "      <td>3.25</td>\n",
              "      <td>0.29</td>\n",
              "      <td>2.38</td>\n",
              "      <td>5.70</td>\n",
              "      <td>1.19</td>\n",
              "      <td>2.71</td>\n",
              "      <td>1285</td>\n",
              "      <td>1</td>\n",
              "    </tr>\n",
              "    <tr>\n",
              "      <th>109</th>\n",
              "      <td>11.61</td>\n",
              "      <td>1.35</td>\n",
              "      <td>2.70</td>\n",
              "      <td>20.0</td>\n",
              "      <td>94</td>\n",
              "      <td>2.74</td>\n",
              "      <td>2.92</td>\n",
              "      <td>0.29</td>\n",
              "      <td>2.49</td>\n",
              "      <td>2.65</td>\n",
              "      <td>0.96</td>\n",
              "      <td>3.26</td>\n",
              "      <td>680</td>\n",
              "      <td>2</td>\n",
              "    </tr>\n",
              "    <tr>\n",
              "      <th>102</th>\n",
              "      <td>12.34</td>\n",
              "      <td>2.45</td>\n",
              "      <td>2.46</td>\n",
              "      <td>21.0</td>\n",
              "      <td>98</td>\n",
              "      <td>2.56</td>\n",
              "      <td>2.11</td>\n",
              "      <td>0.34</td>\n",
              "      <td>1.31</td>\n",
              "      <td>2.80</td>\n",
              "      <td>0.80</td>\n",
              "      <td>3.38</td>\n",
              "      <td>438</td>\n",
              "      <td>2</td>\n",
              "    </tr>\n",
              "    <tr>\n",
              "      <th>130</th>\n",
              "      <td>12.86</td>\n",
              "      <td>1.35</td>\n",
              "      <td>2.32</td>\n",
              "      <td>18.0</td>\n",
              "      <td>122</td>\n",
              "      <td>1.51</td>\n",
              "      <td>1.25</td>\n",
              "      <td>0.21</td>\n",
              "      <td>0.94</td>\n",
              "      <td>4.10</td>\n",
              "      <td>0.76</td>\n",
              "      <td>1.29</td>\n",
              "      <td>630</td>\n",
              "      <td>3</td>\n",
              "    </tr>\n",
              "    <tr>\n",
              "      <th>45</th>\n",
              "      <td>14.21</td>\n",
              "      <td>4.04</td>\n",
              "      <td>2.44</td>\n",
              "      <td>18.9</td>\n",
              "      <td>111</td>\n",
              "      <td>2.85</td>\n",
              "      <td>2.65</td>\n",
              "      <td>0.30</td>\n",
              "      <td>1.25</td>\n",
              "      <td>5.24</td>\n",
              "      <td>0.87</td>\n",
              "      <td>3.33</td>\n",
              "      <td>1080</td>\n",
              "      <td>1</td>\n",
              "    </tr>\n",
              "    <tr>\n",
              "      <th>138</th>\n",
              "      <td>13.49</td>\n",
              "      <td>3.59</td>\n",
              "      <td>2.19</td>\n",
              "      <td>19.5</td>\n",
              "      <td>88</td>\n",
              "      <td>1.62</td>\n",
              "      <td>0.48</td>\n",
              "      <td>0.58</td>\n",
              "      <td>0.88</td>\n",
              "      <td>5.70</td>\n",
              "      <td>0.81</td>\n",
              "      <td>1.82</td>\n",
              "      <td>580</td>\n",
              "      <td>3</td>\n",
              "    </tr>\n",
              "    <tr>\n",
              "      <th>66</th>\n",
              "      <td>13.11</td>\n",
              "      <td>1.01</td>\n",
              "      <td>1.70</td>\n",
              "      <td>15.0</td>\n",
              "      <td>78</td>\n",
              "      <td>2.98</td>\n",
              "      <td>3.18</td>\n",
              "      <td>0.26</td>\n",
              "      <td>2.28</td>\n",
              "      <td>5.30</td>\n",
              "      <td>1.12</td>\n",
              "      <td>3.18</td>\n",
              "      <td>502</td>\n",
              "      <td>2</td>\n",
              "    </tr>\n",
              "    <tr>\n",
              "      <th>48</th>\n",
              "      <td>14.10</td>\n",
              "      <td>2.02</td>\n",
              "      <td>2.40</td>\n",
              "      <td>18.8</td>\n",
              "      <td>103</td>\n",
              "      <td>2.75</td>\n",
              "      <td>2.92</td>\n",
              "      <td>0.32</td>\n",
              "      <td>2.38</td>\n",
              "      <td>6.20</td>\n",
              "      <td>1.07</td>\n",
              "      <td>2.75</td>\n",
              "      <td>1060</td>\n",
              "      <td>1</td>\n",
              "    </tr>\n",
              "  </tbody>\n",
              "</table>\n",
              "</div>\n",
              "      <button class=\"colab-df-convert\" onclick=\"convertToInteractive('df-6dca45e2-f3c8-4698-87db-9d7335a2fcf3')\"\n",
              "              title=\"Convert this dataframe to an interactive table.\"\n",
              "              style=\"display:none;\">\n",
              "        \n",
              "  <svg xmlns=\"http://www.w3.org/2000/svg\" height=\"24px\"viewBox=\"0 0 24 24\"\n",
              "       width=\"24px\">\n",
              "    <path d=\"M0 0h24v24H0V0z\" fill=\"none\"/>\n",
              "    <path d=\"M18.56 5.44l.94 2.06.94-2.06 2.06-.94-2.06-.94-.94-2.06-.94 2.06-2.06.94zm-11 1L8.5 8.5l.94-2.06 2.06-.94-2.06-.94L8.5 2.5l-.94 2.06-2.06.94zm10 10l.94 2.06.94-2.06 2.06-.94-2.06-.94-.94-2.06-.94 2.06-2.06.94z\"/><path d=\"M17.41 7.96l-1.37-1.37c-.4-.4-.92-.59-1.43-.59-.52 0-1.04.2-1.43.59L10.3 9.45l-7.72 7.72c-.78.78-.78 2.05 0 2.83L4 21.41c.39.39.9.59 1.41.59.51 0 1.02-.2 1.41-.59l7.78-7.78 2.81-2.81c.8-.78.8-2.07 0-2.86zM5.41 20L4 18.59l7.72-7.72 1.47 1.35L5.41 20z\"/>\n",
              "  </svg>\n",
              "      </button>\n",
              "      \n",
              "  <style>\n",
              "    .colab-df-container {\n",
              "      display:flex;\n",
              "      flex-wrap:wrap;\n",
              "      gap: 12px;\n",
              "    }\n",
              "\n",
              "    .colab-df-convert {\n",
              "      background-color: #E8F0FE;\n",
              "      border: none;\n",
              "      border-radius: 50%;\n",
              "      cursor: pointer;\n",
              "      display: none;\n",
              "      fill: #1967D2;\n",
              "      height: 32px;\n",
              "      padding: 0 0 0 0;\n",
              "      width: 32px;\n",
              "    }\n",
              "\n",
              "    .colab-df-convert:hover {\n",
              "      background-color: #E2EBFA;\n",
              "      box-shadow: 0px 1px 2px rgba(60, 64, 67, 0.3), 0px 1px 3px 1px rgba(60, 64, 67, 0.15);\n",
              "      fill: #174EA6;\n",
              "    }\n",
              "\n",
              "    [theme=dark] .colab-df-convert {\n",
              "      background-color: #3B4455;\n",
              "      fill: #D2E3FC;\n",
              "    }\n",
              "\n",
              "    [theme=dark] .colab-df-convert:hover {\n",
              "      background-color: #434B5C;\n",
              "      box-shadow: 0px 1px 3px 1px rgba(0, 0, 0, 0.15);\n",
              "      filter: drop-shadow(0px 1px 2px rgba(0, 0, 0, 0.3));\n",
              "      fill: #FFFFFF;\n",
              "    }\n",
              "  </style>\n",
              "\n",
              "      <script>\n",
              "        const buttonEl =\n",
              "          document.querySelector('#df-6dca45e2-f3c8-4698-87db-9d7335a2fcf3 button.colab-df-convert');\n",
              "        buttonEl.style.display =\n",
              "          google.colab.kernel.accessAllowed ? 'block' : 'none';\n",
              "\n",
              "        async function convertToInteractive(key) {\n",
              "          const element = document.querySelector('#df-6dca45e2-f3c8-4698-87db-9d7335a2fcf3');\n",
              "          const dataTable =\n",
              "            await google.colab.kernel.invokeFunction('convertToInteractive',\n",
              "                                                     [key], {});\n",
              "          if (!dataTable) return;\n",
              "\n",
              "          const docLinkHtml = 'Like what you see? Visit the ' +\n",
              "            '<a target=\"_blank\" href=https://colab.research.google.com/notebooks/data_table.ipynb>data table notebook</a>'\n",
              "            + ' to learn more about interactive tables.';\n",
              "          element.innerHTML = '';\n",
              "          dataTable['output_type'] = 'display_data';\n",
              "          await google.colab.output.renderOutput(dataTable, element);\n",
              "          const docLink = document.createElement('div');\n",
              "          docLink.innerHTML = docLinkHtml;\n",
              "          element.appendChild(docLink);\n",
              "        }\n",
              "      </script>\n",
              "    </div>\n",
              "  </div>\n",
              "  "
            ]
          },
          "metadata": {},
          "execution_count": 45
        }
      ]
    },
    {
      "cell_type": "code",
      "metadata": {
        "colab": {
          "base_uri": "https://localhost:8080/"
        },
        "id": "HKRanKieh3JO",
        "outputId": "25b2181a-da3a-45fa-eaa2-9c3bef5af6bb"
      },
      "source": [
        "dataset.describe"
      ],
      "execution_count": null,
      "outputs": [
        {
          "output_type": "execute_result",
          "data": {
            "text/plain": [
              "<bound method NDFrame.describe of      Alcohol  Malic_Acid   Ash  Ash_Alcanity  Magnesium  Total_Phenols  \\\n",
              "0      14.23        1.71  2.43          15.6        127           2.80   \n",
              "1      13.20        1.78  2.14          11.2        100           2.65   \n",
              "2      13.16        2.36  2.67          18.6        101           2.80   \n",
              "3      14.37        1.95  2.50          16.8        113           3.85   \n",
              "4      13.24        2.59  2.87          21.0        118           2.80   \n",
              "..       ...         ...   ...           ...        ...            ...   \n",
              "173    13.71        5.65  2.45          20.5         95           1.68   \n",
              "174    13.40        3.91  2.48          23.0        102           1.80   \n",
              "175    13.27        4.28  2.26          20.0        120           1.59   \n",
              "176    13.17        2.59  2.37          20.0        120           1.65   \n",
              "177    14.13        4.10  2.74          24.5         96           2.05   \n",
              "\n",
              "     Flavanoids  Nonflavanoid_Phenols  Proanthocyanins  Color_Intensity   Hue  \\\n",
              "0          3.06                  0.28             2.29             5.64  1.04   \n",
              "1          2.76                  0.26             1.28             4.38  1.05   \n",
              "2          3.24                  0.30             2.81             5.68  1.03   \n",
              "3          3.49                  0.24             2.18             7.80  0.86   \n",
              "4          2.69                  0.39             1.82             4.32  1.04   \n",
              "..          ...                   ...              ...              ...   ...   \n",
              "173        0.61                  0.52             1.06             7.70  0.64   \n",
              "174        0.75                  0.43             1.41             7.30  0.70   \n",
              "175        0.69                  0.43             1.35            10.20  0.59   \n",
              "176        0.68                  0.53             1.46             9.30  0.60   \n",
              "177        0.76                  0.56             1.35             9.20  0.61   \n",
              "\n",
              "     OD280  Proline  Customer_Segment  \n",
              "0     3.92     1065                 1  \n",
              "1     3.40     1050                 1  \n",
              "2     3.17     1185                 1  \n",
              "3     3.45     1480                 1  \n",
              "4     2.93      735                 1  \n",
              "..     ...      ...               ...  \n",
              "173   1.74      740                 3  \n",
              "174   1.56      750                 3  \n",
              "175   1.56      835                 3  \n",
              "176   1.62      840                 3  \n",
              "177   1.60      560                 3  \n",
              "\n",
              "[178 rows x 14 columns]>"
            ]
          },
          "metadata": {},
          "execution_count": 8
        }
      ]
    },
    {
      "cell_type": "code",
      "metadata": {
        "colab": {
          "base_uri": "https://localhost:8080/",
          "height": 552
        },
        "id": "NFOOyCHiQ94o",
        "outputId": "c6b37fed-305e-4e23-a349-09880289a346"
      },
      "source": [
        "dataset.corr()"
      ],
      "execution_count": null,
      "outputs": [
        {
          "output_type": "execute_result",
          "data": {
            "text/plain": [
              "                       Alcohol  Malic_Acid       Ash  Ash_Alcanity  Magnesium  \\\n",
              "Alcohol               1.000000    0.094397  0.211545     -0.310235   0.270798   \n",
              "Malic_Acid            0.094397    1.000000  0.164045      0.288500  -0.054575   \n",
              "Ash                   0.211545    0.164045  1.000000      0.443367   0.286587   \n",
              "Ash_Alcanity         -0.310235    0.288500  0.443367      1.000000  -0.083333   \n",
              "Magnesium             0.270798   -0.054575  0.286587     -0.083333   1.000000   \n",
              "Total_Phenols         0.289101   -0.335167  0.128980     -0.321113   0.214401   \n",
              "Flavanoids            0.236815   -0.411007  0.115077     -0.351370   0.195784   \n",
              "Nonflavanoid_Phenols -0.155929    0.292977  0.186230      0.361922  -0.256294   \n",
              "Proanthocyanins       0.136698   -0.220746  0.009652     -0.197327   0.236441   \n",
              "Color_Intensity       0.546364    0.248985  0.258887      0.018732   0.199950   \n",
              "Hue                  -0.071747   -0.561296 -0.074667     -0.273955   0.055398   \n",
              "OD280                 0.072343   -0.368710  0.003911     -0.276769   0.066004   \n",
              "Proline               0.643720   -0.192011  0.223626     -0.440597   0.393351   \n",
              "Customer_Segment     -0.328222    0.437776 -0.049643      0.517859  -0.209179   \n",
              "\n",
              "                      Total_Phenols  Flavanoids  Nonflavanoid_Phenols  \\\n",
              "Alcohol                    0.289101    0.236815             -0.155929   \n",
              "Malic_Acid                -0.335167   -0.411007              0.292977   \n",
              "Ash                        0.128980    0.115077              0.186230   \n",
              "Ash_Alcanity              -0.321113   -0.351370              0.361922   \n",
              "Magnesium                  0.214401    0.195784             -0.256294   \n",
              "Total_Phenols              1.000000    0.864564             -0.449935   \n",
              "Flavanoids                 0.864564    1.000000             -0.537900   \n",
              "Nonflavanoid_Phenols      -0.449935   -0.537900              1.000000   \n",
              "Proanthocyanins            0.612413    0.652692             -0.365845   \n",
              "Color_Intensity           -0.055136   -0.172379              0.139057   \n",
              "Hue                        0.433681    0.543479             -0.262640   \n",
              "OD280                      0.699949    0.787194             -0.503270   \n",
              "Proline                    0.498115    0.494193             -0.311385   \n",
              "Customer_Segment          -0.719163   -0.847498              0.489109   \n",
              "\n",
              "                      Proanthocyanins  Color_Intensity       Hue     OD280  \\\n",
              "Alcohol                      0.136698         0.546364 -0.071747  0.072343   \n",
              "Malic_Acid                  -0.220746         0.248985 -0.561296 -0.368710   \n",
              "Ash                          0.009652         0.258887 -0.074667  0.003911   \n",
              "Ash_Alcanity                -0.197327         0.018732 -0.273955 -0.276769   \n",
              "Magnesium                    0.236441         0.199950  0.055398  0.066004   \n",
              "Total_Phenols                0.612413        -0.055136  0.433681  0.699949   \n",
              "Flavanoids                   0.652692        -0.172379  0.543479  0.787194   \n",
              "Nonflavanoid_Phenols        -0.365845         0.139057 -0.262640 -0.503270   \n",
              "Proanthocyanins              1.000000        -0.025250  0.295544  0.519067   \n",
              "Color_Intensity             -0.025250         1.000000 -0.521813 -0.428815   \n",
              "Hue                          0.295544        -0.521813  1.000000  0.565468   \n",
              "OD280                        0.519067        -0.428815  0.565468  1.000000   \n",
              "Proline                      0.330417         0.316100  0.236183  0.312761   \n",
              "Customer_Segment            -0.499130         0.265668 -0.617369 -0.788230   \n",
              "\n",
              "                       Proline  Customer_Segment  \n",
              "Alcohol               0.643720         -0.328222  \n",
              "Malic_Acid           -0.192011          0.437776  \n",
              "Ash                   0.223626         -0.049643  \n",
              "Ash_Alcanity         -0.440597          0.517859  \n",
              "Magnesium             0.393351         -0.209179  \n",
              "Total_Phenols         0.498115         -0.719163  \n",
              "Flavanoids            0.494193         -0.847498  \n",
              "Nonflavanoid_Phenols -0.311385          0.489109  \n",
              "Proanthocyanins       0.330417         -0.499130  \n",
              "Color_Intensity       0.316100          0.265668  \n",
              "Hue                   0.236183         -0.617369  \n",
              "OD280                 0.312761         -0.788230  \n",
              "Proline               1.000000         -0.633717  \n",
              "Customer_Segment     -0.633717          1.000000  "
            ],
            "text/html": [
              "\n",
              "  <div id=\"df-e5701a40-8941-4391-9505-ecfc1864358d\">\n",
              "    <div class=\"colab-df-container\">\n",
              "      <div>\n",
              "<style scoped>\n",
              "    .dataframe tbody tr th:only-of-type {\n",
              "        vertical-align: middle;\n",
              "    }\n",
              "\n",
              "    .dataframe tbody tr th {\n",
              "        vertical-align: top;\n",
              "    }\n",
              "\n",
              "    .dataframe thead th {\n",
              "        text-align: right;\n",
              "    }\n",
              "</style>\n",
              "<table border=\"1\" class=\"dataframe\">\n",
              "  <thead>\n",
              "    <tr style=\"text-align: right;\">\n",
              "      <th></th>\n",
              "      <th>Alcohol</th>\n",
              "      <th>Malic_Acid</th>\n",
              "      <th>Ash</th>\n",
              "      <th>Ash_Alcanity</th>\n",
              "      <th>Magnesium</th>\n",
              "      <th>Total_Phenols</th>\n",
              "      <th>Flavanoids</th>\n",
              "      <th>Nonflavanoid_Phenols</th>\n",
              "      <th>Proanthocyanins</th>\n",
              "      <th>Color_Intensity</th>\n",
              "      <th>Hue</th>\n",
              "      <th>OD280</th>\n",
              "      <th>Proline</th>\n",
              "      <th>Customer_Segment</th>\n",
              "    </tr>\n",
              "  </thead>\n",
              "  <tbody>\n",
              "    <tr>\n",
              "      <th>Alcohol</th>\n",
              "      <td>1.000000</td>\n",
              "      <td>0.094397</td>\n",
              "      <td>0.211545</td>\n",
              "      <td>-0.310235</td>\n",
              "      <td>0.270798</td>\n",
              "      <td>0.289101</td>\n",
              "      <td>0.236815</td>\n",
              "      <td>-0.155929</td>\n",
              "      <td>0.136698</td>\n",
              "      <td>0.546364</td>\n",
              "      <td>-0.071747</td>\n",
              "      <td>0.072343</td>\n",
              "      <td>0.643720</td>\n",
              "      <td>-0.328222</td>\n",
              "    </tr>\n",
              "    <tr>\n",
              "      <th>Malic_Acid</th>\n",
              "      <td>0.094397</td>\n",
              "      <td>1.000000</td>\n",
              "      <td>0.164045</td>\n",
              "      <td>0.288500</td>\n",
              "      <td>-0.054575</td>\n",
              "      <td>-0.335167</td>\n",
              "      <td>-0.411007</td>\n",
              "      <td>0.292977</td>\n",
              "      <td>-0.220746</td>\n",
              "      <td>0.248985</td>\n",
              "      <td>-0.561296</td>\n",
              "      <td>-0.368710</td>\n",
              "      <td>-0.192011</td>\n",
              "      <td>0.437776</td>\n",
              "    </tr>\n",
              "    <tr>\n",
              "      <th>Ash</th>\n",
              "      <td>0.211545</td>\n",
              "      <td>0.164045</td>\n",
              "      <td>1.000000</td>\n",
              "      <td>0.443367</td>\n",
              "      <td>0.286587</td>\n",
              "      <td>0.128980</td>\n",
              "      <td>0.115077</td>\n",
              "      <td>0.186230</td>\n",
              "      <td>0.009652</td>\n",
              "      <td>0.258887</td>\n",
              "      <td>-0.074667</td>\n",
              "      <td>0.003911</td>\n",
              "      <td>0.223626</td>\n",
              "      <td>-0.049643</td>\n",
              "    </tr>\n",
              "    <tr>\n",
              "      <th>Ash_Alcanity</th>\n",
              "      <td>-0.310235</td>\n",
              "      <td>0.288500</td>\n",
              "      <td>0.443367</td>\n",
              "      <td>1.000000</td>\n",
              "      <td>-0.083333</td>\n",
              "      <td>-0.321113</td>\n",
              "      <td>-0.351370</td>\n",
              "      <td>0.361922</td>\n",
              "      <td>-0.197327</td>\n",
              "      <td>0.018732</td>\n",
              "      <td>-0.273955</td>\n",
              "      <td>-0.276769</td>\n",
              "      <td>-0.440597</td>\n",
              "      <td>0.517859</td>\n",
              "    </tr>\n",
              "    <tr>\n",
              "      <th>Magnesium</th>\n",
              "      <td>0.270798</td>\n",
              "      <td>-0.054575</td>\n",
              "      <td>0.286587</td>\n",
              "      <td>-0.083333</td>\n",
              "      <td>1.000000</td>\n",
              "      <td>0.214401</td>\n",
              "      <td>0.195784</td>\n",
              "      <td>-0.256294</td>\n",
              "      <td>0.236441</td>\n",
              "      <td>0.199950</td>\n",
              "      <td>0.055398</td>\n",
              "      <td>0.066004</td>\n",
              "      <td>0.393351</td>\n",
              "      <td>-0.209179</td>\n",
              "    </tr>\n",
              "    <tr>\n",
              "      <th>Total_Phenols</th>\n",
              "      <td>0.289101</td>\n",
              "      <td>-0.335167</td>\n",
              "      <td>0.128980</td>\n",
              "      <td>-0.321113</td>\n",
              "      <td>0.214401</td>\n",
              "      <td>1.000000</td>\n",
              "      <td>0.864564</td>\n",
              "      <td>-0.449935</td>\n",
              "      <td>0.612413</td>\n",
              "      <td>-0.055136</td>\n",
              "      <td>0.433681</td>\n",
              "      <td>0.699949</td>\n",
              "      <td>0.498115</td>\n",
              "      <td>-0.719163</td>\n",
              "    </tr>\n",
              "    <tr>\n",
              "      <th>Flavanoids</th>\n",
              "      <td>0.236815</td>\n",
              "      <td>-0.411007</td>\n",
              "      <td>0.115077</td>\n",
              "      <td>-0.351370</td>\n",
              "      <td>0.195784</td>\n",
              "      <td>0.864564</td>\n",
              "      <td>1.000000</td>\n",
              "      <td>-0.537900</td>\n",
              "      <td>0.652692</td>\n",
              "      <td>-0.172379</td>\n",
              "      <td>0.543479</td>\n",
              "      <td>0.787194</td>\n",
              "      <td>0.494193</td>\n",
              "      <td>-0.847498</td>\n",
              "    </tr>\n",
              "    <tr>\n",
              "      <th>Nonflavanoid_Phenols</th>\n",
              "      <td>-0.155929</td>\n",
              "      <td>0.292977</td>\n",
              "      <td>0.186230</td>\n",
              "      <td>0.361922</td>\n",
              "      <td>-0.256294</td>\n",
              "      <td>-0.449935</td>\n",
              "      <td>-0.537900</td>\n",
              "      <td>1.000000</td>\n",
              "      <td>-0.365845</td>\n",
              "      <td>0.139057</td>\n",
              "      <td>-0.262640</td>\n",
              "      <td>-0.503270</td>\n",
              "      <td>-0.311385</td>\n",
              "      <td>0.489109</td>\n",
              "    </tr>\n",
              "    <tr>\n",
              "      <th>Proanthocyanins</th>\n",
              "      <td>0.136698</td>\n",
              "      <td>-0.220746</td>\n",
              "      <td>0.009652</td>\n",
              "      <td>-0.197327</td>\n",
              "      <td>0.236441</td>\n",
              "      <td>0.612413</td>\n",
              "      <td>0.652692</td>\n",
              "      <td>-0.365845</td>\n",
              "      <td>1.000000</td>\n",
              "      <td>-0.025250</td>\n",
              "      <td>0.295544</td>\n",
              "      <td>0.519067</td>\n",
              "      <td>0.330417</td>\n",
              "      <td>-0.499130</td>\n",
              "    </tr>\n",
              "    <tr>\n",
              "      <th>Color_Intensity</th>\n",
              "      <td>0.546364</td>\n",
              "      <td>0.248985</td>\n",
              "      <td>0.258887</td>\n",
              "      <td>0.018732</td>\n",
              "      <td>0.199950</td>\n",
              "      <td>-0.055136</td>\n",
              "      <td>-0.172379</td>\n",
              "      <td>0.139057</td>\n",
              "      <td>-0.025250</td>\n",
              "      <td>1.000000</td>\n",
              "      <td>-0.521813</td>\n",
              "      <td>-0.428815</td>\n",
              "      <td>0.316100</td>\n",
              "      <td>0.265668</td>\n",
              "    </tr>\n",
              "    <tr>\n",
              "      <th>Hue</th>\n",
              "      <td>-0.071747</td>\n",
              "      <td>-0.561296</td>\n",
              "      <td>-0.074667</td>\n",
              "      <td>-0.273955</td>\n",
              "      <td>0.055398</td>\n",
              "      <td>0.433681</td>\n",
              "      <td>0.543479</td>\n",
              "      <td>-0.262640</td>\n",
              "      <td>0.295544</td>\n",
              "      <td>-0.521813</td>\n",
              "      <td>1.000000</td>\n",
              "      <td>0.565468</td>\n",
              "      <td>0.236183</td>\n",
              "      <td>-0.617369</td>\n",
              "    </tr>\n",
              "    <tr>\n",
              "      <th>OD280</th>\n",
              "      <td>0.072343</td>\n",
              "      <td>-0.368710</td>\n",
              "      <td>0.003911</td>\n",
              "      <td>-0.276769</td>\n",
              "      <td>0.066004</td>\n",
              "      <td>0.699949</td>\n",
              "      <td>0.787194</td>\n",
              "      <td>-0.503270</td>\n",
              "      <td>0.519067</td>\n",
              "      <td>-0.428815</td>\n",
              "      <td>0.565468</td>\n",
              "      <td>1.000000</td>\n",
              "      <td>0.312761</td>\n",
              "      <td>-0.788230</td>\n",
              "    </tr>\n",
              "    <tr>\n",
              "      <th>Proline</th>\n",
              "      <td>0.643720</td>\n",
              "      <td>-0.192011</td>\n",
              "      <td>0.223626</td>\n",
              "      <td>-0.440597</td>\n",
              "      <td>0.393351</td>\n",
              "      <td>0.498115</td>\n",
              "      <td>0.494193</td>\n",
              "      <td>-0.311385</td>\n",
              "      <td>0.330417</td>\n",
              "      <td>0.316100</td>\n",
              "      <td>0.236183</td>\n",
              "      <td>0.312761</td>\n",
              "      <td>1.000000</td>\n",
              "      <td>-0.633717</td>\n",
              "    </tr>\n",
              "    <tr>\n",
              "      <th>Customer_Segment</th>\n",
              "      <td>-0.328222</td>\n",
              "      <td>0.437776</td>\n",
              "      <td>-0.049643</td>\n",
              "      <td>0.517859</td>\n",
              "      <td>-0.209179</td>\n",
              "      <td>-0.719163</td>\n",
              "      <td>-0.847498</td>\n",
              "      <td>0.489109</td>\n",
              "      <td>-0.499130</td>\n",
              "      <td>0.265668</td>\n",
              "      <td>-0.617369</td>\n",
              "      <td>-0.788230</td>\n",
              "      <td>-0.633717</td>\n",
              "      <td>1.000000</td>\n",
              "    </tr>\n",
              "  </tbody>\n",
              "</table>\n",
              "</div>\n",
              "      <button class=\"colab-df-convert\" onclick=\"convertToInteractive('df-e5701a40-8941-4391-9505-ecfc1864358d')\"\n",
              "              title=\"Convert this dataframe to an interactive table.\"\n",
              "              style=\"display:none;\">\n",
              "        \n",
              "  <svg xmlns=\"http://www.w3.org/2000/svg\" height=\"24px\"viewBox=\"0 0 24 24\"\n",
              "       width=\"24px\">\n",
              "    <path d=\"M0 0h24v24H0V0z\" fill=\"none\"/>\n",
              "    <path d=\"M18.56 5.44l.94 2.06.94-2.06 2.06-.94-2.06-.94-.94-2.06-.94 2.06-2.06.94zm-11 1L8.5 8.5l.94-2.06 2.06-.94-2.06-.94L8.5 2.5l-.94 2.06-2.06.94zm10 10l.94 2.06.94-2.06 2.06-.94-2.06-.94-.94-2.06-.94 2.06-2.06.94z\"/><path d=\"M17.41 7.96l-1.37-1.37c-.4-.4-.92-.59-1.43-.59-.52 0-1.04.2-1.43.59L10.3 9.45l-7.72 7.72c-.78.78-.78 2.05 0 2.83L4 21.41c.39.39.9.59 1.41.59.51 0 1.02-.2 1.41-.59l7.78-7.78 2.81-2.81c.8-.78.8-2.07 0-2.86zM5.41 20L4 18.59l7.72-7.72 1.47 1.35L5.41 20z\"/>\n",
              "  </svg>\n",
              "      </button>\n",
              "      \n",
              "  <style>\n",
              "    .colab-df-container {\n",
              "      display:flex;\n",
              "      flex-wrap:wrap;\n",
              "      gap: 12px;\n",
              "    }\n",
              "\n",
              "    .colab-df-convert {\n",
              "      background-color: #E8F0FE;\n",
              "      border: none;\n",
              "      border-radius: 50%;\n",
              "      cursor: pointer;\n",
              "      display: none;\n",
              "      fill: #1967D2;\n",
              "      height: 32px;\n",
              "      padding: 0 0 0 0;\n",
              "      width: 32px;\n",
              "    }\n",
              "\n",
              "    .colab-df-convert:hover {\n",
              "      background-color: #E2EBFA;\n",
              "      box-shadow: 0px 1px 2px rgba(60, 64, 67, 0.3), 0px 1px 3px 1px rgba(60, 64, 67, 0.15);\n",
              "      fill: #174EA6;\n",
              "    }\n",
              "\n",
              "    [theme=dark] .colab-df-convert {\n",
              "      background-color: #3B4455;\n",
              "      fill: #D2E3FC;\n",
              "    }\n",
              "\n",
              "    [theme=dark] .colab-df-convert:hover {\n",
              "      background-color: #434B5C;\n",
              "      box-shadow: 0px 1px 3px 1px rgba(0, 0, 0, 0.15);\n",
              "      filter: drop-shadow(0px 1px 2px rgba(0, 0, 0, 0.3));\n",
              "      fill: #FFFFFF;\n",
              "    }\n",
              "  </style>\n",
              "\n",
              "      <script>\n",
              "        const buttonEl =\n",
              "          document.querySelector('#df-e5701a40-8941-4391-9505-ecfc1864358d button.colab-df-convert');\n",
              "        buttonEl.style.display =\n",
              "          google.colab.kernel.accessAllowed ? 'block' : 'none';\n",
              "\n",
              "        async function convertToInteractive(key) {\n",
              "          const element = document.querySelector('#df-e5701a40-8941-4391-9505-ecfc1864358d');\n",
              "          const dataTable =\n",
              "            await google.colab.kernel.invokeFunction('convertToInteractive',\n",
              "                                                     [key], {});\n",
              "          if (!dataTable) return;\n",
              "\n",
              "          const docLinkHtml = 'Like what you see? Visit the ' +\n",
              "            '<a target=\"_blank\" href=https://colab.research.google.com/notebooks/data_table.ipynb>data table notebook</a>'\n",
              "            + ' to learn more about interactive tables.';\n",
              "          element.innerHTML = '';\n",
              "          dataTable['output_type'] = 'display_data';\n",
              "          await google.colab.output.renderOutput(dataTable, element);\n",
              "          const docLink = document.createElement('div');\n",
              "          docLink.innerHTML = docLinkHtml;\n",
              "          element.appendChild(docLink);\n",
              "        }\n",
              "      </script>\n",
              "    </div>\n",
              "  </div>\n",
              "  "
            ]
          },
          "metadata": {},
          "execution_count": 9
        }
      ]
    },
    {
      "cell_type": "code",
      "metadata": {
        "colab": {
          "base_uri": "https://localhost:8080/"
        },
        "id": "7Qsb8oSYQ_Pl",
        "outputId": "567e55f4-8009-4bf6-ed4d-cbc3c08276f3"
      },
      "source": [
        "dataset.mean()"
      ],
      "execution_count": null,
      "outputs": [
        {
          "output_type": "execute_result",
          "data": {
            "text/plain": [
              "Alcohol                  13.000618\n",
              "Malic_Acid                2.336348\n",
              "Ash                       2.366517\n",
              "Ash_Alcanity             19.494944\n",
              "Magnesium                99.741573\n",
              "Total_Phenols             2.295112\n",
              "Flavanoids                2.029270\n",
              "Nonflavanoid_Phenols      0.361854\n",
              "Proanthocyanins           1.590899\n",
              "Color_Intensity           5.058090\n",
              "Hue                       0.957449\n",
              "OD280                     2.611685\n",
              "Proline                 746.893258\n",
              "Customer_Segment          1.938202\n",
              "dtype: float64"
            ]
          },
          "metadata": {},
          "execution_count": 10
        }
      ]
    },
    {
      "cell_type": "code",
      "metadata": {
        "id": "jYGoICmLXaRk"
      },
      "source": [
        "X = dataset.iloc[:, :-1].values\n",
        "Y = dataset.iloc[:, -1].values"
      ],
      "execution_count": null,
      "outputs": []
    },
    {
      "cell_type": "code",
      "metadata": {
        "id": "DVPD4vEVXgKP"
      },
      "source": [
        "# Splitting the dataset into the training set and test set\n",
        "from sklearn.model_selection import train_test_split\n",
        "X_train, X_test, Y_train, Y_test = train_test_split(X, Y, test_size=0.25, random_state = 0)\n"
      ],
      "execution_count": null,
      "outputs": []
    },
    {
      "cell_type": "code",
      "metadata": {
        "id": "T85QS7GkXh3u"
      },
      "source": [
        "from sklearn.preprocessing import StandardScaler\n",
        "sc_x = StandardScaler()\n",
        "X_train = sc_x.fit_transform(X_train)\n",
        "X_test = sc_x.transform(X_test)\n"
      ],
      "execution_count": null,
      "outputs": []
    },
    {
      "cell_type": "code",
      "source": [
        "from sklearn.decomposition import PCA\n",
        "pca = PCA(n_components=2)\n",
        "X_train = pca.fit_transform(X_train)\n",
        "X_test = pca.transform(X_test)"
      ],
      "metadata": {
        "id": "TQRlABJC3Uqc"
      },
      "execution_count": null,
      "outputs": []
    },
    {
      "cell_type": "code",
      "source": [
        "from sklearn.linear_model import LogisticRegression\n",
        "lr = LogisticRegression()\n",
        "lr.fit(X_train,Y_train)"
      ],
      "metadata": {
        "colab": {
          "base_uri": "https://localhost:8080/"
        },
        "id": "lm7-orNS36t6",
        "outputId": "7f960e98-a54a-44b6-f96f-2fe555363ae8"
      },
      "execution_count": null,
      "outputs": [
        {
          "output_type": "execute_result",
          "data": {
            "text/plain": [
              "LogisticRegression()"
            ]
          },
          "metadata": {},
          "execution_count": 35
        }
      ]
    },
    {
      "cell_type": "code",
      "source": [
        "Y_pred = lr.predict(X_test)"
      ],
      "metadata": {
        "id": "j3Lw5lDW4Haw"
      },
      "execution_count": null,
      "outputs": []
    },
    {
      "cell_type": "code",
      "source": [
        "from sklearn.metrics import confusion_matrix\n",
        "cm = confusion_matrix(Y_test,Y_pred)\n",
        "cm"
      ],
      "metadata": {
        "colab": {
          "base_uri": "https://localhost:8080/"
        },
        "id": "pov0m9x24M_-",
        "outputId": "d48f563c-d2d3-4b1e-dabd-81bf6f10324e"
      },
      "execution_count": null,
      "outputs": [
        {
          "output_type": "execute_result",
          "data": {
            "text/plain": [
              "array([[16,  0,  0],\n",
              "       [ 1, 20,  0],\n",
              "       [ 0,  0,  8]])"
            ]
          },
          "metadata": {},
          "execution_count": 37
        }
      ]
    },
    {
      "cell_type": "code",
      "source": [
        "from sklearn.discriminant_analysis import LinearDiscriminantAnalysis\n",
        "lda = LinearDiscriminantAnalysis(n_components=2)\n",
        "X_train = lda.fit_transform(X_train,Y_train)\n",
        "X_test = lda.transform(X_test)"
      ],
      "metadata": {
        "id": "cXOWgidv48u_"
      },
      "execution_count": null,
      "outputs": []
    },
    {
      "cell_type": "code",
      "source": [
        "from sklearn.linear_model import LogisticRegression\n",
        "lr = LogisticRegression()\n",
        "lr.fit(X_train,Y_train)"
      ],
      "metadata": {
        "colab": {
          "base_uri": "https://localhost:8080/"
        },
        "id": "AVbeGZqN5Rw0",
        "outputId": "ef732efb-a3fc-4a3b-e36a-3e9163cf7b36"
      },
      "execution_count": null,
      "outputs": [
        {
          "output_type": "execute_result",
          "data": {
            "text/plain": [
              "LogisticRegression()"
            ]
          },
          "metadata": {},
          "execution_count": 57
        }
      ]
    },
    {
      "cell_type": "code",
      "source": [
        "Y_pred = lr.predict(X_test)"
      ],
      "metadata": {
        "id": "OUcOElFg5UA6"
      },
      "execution_count": null,
      "outputs": []
    },
    {
      "cell_type": "code",
      "source": [
        "from sklearn.metrics import confusion_matrix\n",
        "cm = confusion_matrix(Y_test,Y_pred)\n",
        "cm"
      ],
      "metadata": {
        "colab": {
          "base_uri": "https://localhost:8080/"
        },
        "id": "627wVTAX5WPE",
        "outputId": "66698cca-100d-4d89-d1b6-9755601b77d5"
      },
      "execution_count": null,
      "outputs": [
        {
          "output_type": "execute_result",
          "data": {
            "text/plain": [
              "array([[16,  0,  0],\n",
              "       [ 0, 21,  0],\n",
              "       [ 0,  0,  8]])"
            ]
          },
          "metadata": {},
          "execution_count": 59
        }
      ]
    },
    {
      "cell_type": "code",
      "metadata": {
        "colab": {
          "base_uri": "https://localhost:8080/"
        },
        "id": "FZn-gVP7OE7V",
        "outputId": "a272e550-6f62-43fc-ad95-976f7418a6ba"
      },
      "source": [
        "X_train"
      ],
      "execution_count": null,
      "outputs": [
        {
          "output_type": "execute_result",
          "data": {
            "text/plain": [
              "array([[1.364e+01, 3.100e+00, 2.560e+00, ..., 9.600e-01, 3.360e+00,\n",
              "        8.450e+02],\n",
              "       [1.260e+01, 2.460e+00, 2.200e+00, ..., 7.300e-01, 1.580e+00,\n",
              "        6.950e+02],\n",
              "       [1.196e+01, 1.090e+00, 2.300e+00, ..., 9.900e-01, 3.130e+00,\n",
              "        8.860e+02],\n",
              "       ...,\n",
              "       [1.242e+01, 1.610e+00, 2.190e+00, ..., 1.060e+00, 2.960e+00,\n",
              "        3.450e+02],\n",
              "       [1.390e+01, 1.680e+00, 2.120e+00, ..., 9.100e-01, 3.330e+00,\n",
              "        9.850e+02],\n",
              "       [1.416e+01, 2.510e+00, 2.480e+00, ..., 6.200e-01, 1.710e+00,\n",
              "        6.600e+02]])"
            ]
          },
          "metadata": {},
          "execution_count": 14
        }
      ]
    },
    {
      "cell_type": "code",
      "metadata": {
        "id": "QS5cPSBXXl4J"
      },
      "source": [
        "# Applying PCA\n",
        "from sklearn.decomposition import PCA\n",
        "pca = PCA(n_components =1)\n",
        "X_train = pca.fit_transform(X_train)   # only X_train  #unsupervise\n",
        "X_test = pca.transform(X_test)"
      ],
      "execution_count": null,
      "outputs": []
    },
    {
      "cell_type": "code",
      "metadata": {
        "colab": {
          "base_uri": "https://localhost:8080/"
        },
        "id": "WdO7WPV8yZ70",
        "outputId": "57661c61-2123-4c37-df52-e5c7d151cddf"
      },
      "source": [
        "X_train"
      ],
      "execution_count": null,
      "outputs": [
        {
          "output_type": "execute_result",
          "data": {
            "text/plain": [
              "array([[ 9.54445410e+01],\n",
              "       [-5.49002358e+01],\n",
              "       [ 1.36165698e+02],\n",
              "       [ 1.05359747e+02],\n",
              "       [ 5.30422666e+02],\n",
              "       [-2.19731379e+02],\n",
              "       [-1.69985774e+02],\n",
              "       [ 4.54666236e+01],\n",
              "       [-8.98470753e+01],\n",
              "       [ 2.85172934e+02],\n",
              "       [-4.37883536e+02],\n",
              "       [ 8.54854060e+01],\n",
              "       [ 8.01848402e+01],\n",
              "       [-3.40017938e+02],\n",
              "       [-1.79716691e+02],\n",
              "       [-2.69946807e+02],\n",
              "       [ 5.35022188e+02],\n",
              "       [-2.35039955e+02],\n",
              "       [-1.00031692e+02],\n",
              "       [-3.21992319e+02],\n",
              "       [-3.78066625e+02],\n",
              "       [-7.47138656e+01],\n",
              "       [-1.19889840e+02],\n",
              "       [ 4.35144435e+02],\n",
              "       [-2.29936780e+02],\n",
              "       [ 1.88123054e+02],\n",
              "       [-1.24290223e+02],\n",
              "       [-6.97517968e+01],\n",
              "       [ 7.60165233e+02],\n",
              "       [-6.99093158e+01],\n",
              "       [ 2.35700511e+02],\n",
              "       [-2.79992385e+02],\n",
              "       [-1.29973804e+02],\n",
              "       [-1.87687451e+02],\n",
              "       [-3.72013187e+02],\n",
              "       [-2.55017468e+02],\n",
              "       [-5.46490595e+01],\n",
              "       [-2.39850313e+02],\n",
              "       [ 4.00045953e+02],\n",
              "       [-2.49381860e+01],\n",
              "       [-1.25301785e+02],\n",
              "       [-3.94703749e+02],\n",
              "       [-3.84779077e+02],\n",
              "       [-3.70059915e+02],\n",
              "       [-3.10078236e+01],\n",
              "       [ 5.10258814e+02],\n",
              "       [ 3.10194354e+02],\n",
              "       [-2.99788219e+02],\n",
              "       [ 4.00035371e+02],\n",
              "       [-3.00062954e+01],\n",
              "       [ 2.65073002e+02],\n",
              "       [-2.29991802e+02],\n",
              "       [ 3.06102538e+01],\n",
              "       [ 5.60309412e+02],\n",
              "       [ 7.65907135e-01],\n",
              "       [ 4.40331409e+02],\n",
              "       [-3.98543692e+01],\n",
              "       [-3.57967979e+02],\n",
              "       [ 7.30307924e+02],\n",
              "       [ 9.04839199e+01],\n",
              "       [-2.62053720e+02],\n",
              "       [ 5.40072268e+02],\n",
              "       [ 3.45937054e-01],\n",
              "       [-3.21807438e+02],\n",
              "       [-2.29875843e+02],\n",
              "       [-1.19454696e+02],\n",
              "       [ 5.69950541e+02],\n",
              "       [-2.34885225e+02],\n",
              "       [-3.24551730e+02],\n",
              "       [ 7.97151523e+02],\n",
              "       [ 3.15587024e+02],\n",
              "       [-3.00015104e+02],\n",
              "       [-7.48254732e+01],\n",
              "       [ 3.15190922e+02],\n",
              "       [ 5.30044006e+02],\n",
              "       [-1.86004593e+02],\n",
              "       [-3.11818998e+02],\n",
              "       [ 1.70155249e+02],\n",
              "       [ 5.20158016e+02],\n",
              "       [ 2.84986364e+02],\n",
              "       [-9.90101141e+00],\n",
              "       [-7.18321476e+01],\n",
              "       [ 3.00184141e+02],\n",
              "       [-1.24870245e+02],\n",
              "       [-1.99924021e+02],\n",
              "       [ 3.45178565e+02],\n",
              "       [-4.34933592e+02],\n",
              "       [-1.89850791e+02],\n",
              "       [-1.09757645e+02],\n",
              "       [ 3.80366864e+02],\n",
              "       [ 2.70131220e+02],\n",
              "       [-1.49719654e+02],\n",
              "       [ 6.25345499e+02],\n",
              "       [-1.59809333e+02],\n",
              "       [-4.07981455e+02],\n",
              "       [ 3.45290835e+02],\n",
              "       [ 1.65270929e+02],\n",
              "       [-3.65038024e+02],\n",
              "       [ 7.65175460e+02],\n",
              "       [-1.99592285e+02],\n",
              "       [-2.83958617e+02],\n",
              "       [ 1.30074424e+02],\n",
              "       [ 2.40221942e+02],\n",
              "       [-2.29860706e+02],\n",
              "       [-2.49442315e+02],\n",
              "       [-1.25031360e+02],\n",
              "       [ 2.85099544e+02],\n",
              "       [-3.43953739e+02],\n",
              "       [-1.20178800e+02],\n",
              "       [-2.86786181e+02],\n",
              "       [-3.43023974e+02],\n",
              "       [-9.99370168e+01],\n",
              "       [-1.89875098e+02],\n",
              "       [-2.78009712e+02],\n",
              "       [-2.49597246e+02],\n",
              "       [ 8.05143301e+01],\n",
              "       [-3.60305273e+01],\n",
              "       [-6.49912164e+01],\n",
              "       [-1.19640218e+02],\n",
              "       [ 1.06565311e+01],\n",
              "       [ 5.35254707e+02],\n",
              "       [-1.49874130e+02],\n",
              "       [-7.00790193e+01],\n",
              "       [ 1.20196596e+02],\n",
              "       [-1.88023223e+02],\n",
              "       [ 1.30341973e+02],\n",
              "       [ 2.02136104e+01],\n",
              "       [ 2.95136877e+02],\n",
              "       [-3.34998927e+02],\n",
              "       [-2.40130292e+02],\n",
              "       [-4.04658930e+02],\n",
              "       [ 2.35190299e+02],\n",
              "       [-8.99414033e+01]])"
            ]
          },
          "metadata": {},
          "execution_count": 16
        }
      ]
    },
    {
      "cell_type": "code",
      "metadata": {
        "colab": {
          "base_uri": "https://localhost:8080/"
        },
        "id": "qMjBCHWDXrIJ",
        "outputId": "bd8aacc3-bdfd-43ed-86a1-1513bbe14f5b"
      },
      "source": [
        "# Fitting logistic Regression to the training set\n",
        "from sklearn.linear_model import LogisticRegression\n",
        "classifier = LogisticRegression(random_state = 0)\n",
        "classifier.fit(X_train, Y_train)"
      ],
      "execution_count": null,
      "outputs": [
        {
          "output_type": "execute_result",
          "data": {
            "text/plain": [
              "LogisticRegression(random_state=0)"
            ]
          },
          "metadata": {},
          "execution_count": 17
        }
      ]
    },
    {
      "cell_type": "code",
      "metadata": {
        "id": "xyVdIlGYXtZx"
      },
      "source": [
        "#Predicting the Test set results\n",
        "Y_pred = classifier.predict(X_test)"
      ],
      "execution_count": null,
      "outputs": []
    },
    {
      "cell_type": "code",
      "metadata": {
        "id": "qgO4dm6YKV7f",
        "colab": {
          "base_uri": "https://localhost:8080/"
        },
        "outputId": "ce15446e-261e-4390-9599-7015795f9936"
      },
      "source": [
        "Y_pred"
      ],
      "execution_count": null,
      "outputs": [
        {
          "output_type": "execute_result",
          "data": {
            "text/plain": [
              "array([1, 2, 2, 1, 2, 2, 1, 2, 2, 2, 3, 2, 1, 3, 3, 2, 1, 1, 2, 1, 2, 1,\n",
              "       3, 3, 3, 2, 2, 2, 2, 2, 1, 1, 2, 1, 1, 1, 3, 2, 2, 3, 1, 1, 2, 2,\n",
              "       2])"
            ]
          },
          "metadata": {},
          "execution_count": 19
        }
      ]
    },
    {
      "cell_type": "code",
      "metadata": {
        "colab": {
          "base_uri": "https://localhost:8080/"
        },
        "id": "rpyu5A8fYytu",
        "outputId": "3303e503-5efb-4d08-be83-221fd03fdea9"
      },
      "source": [
        "Y_test,Y_pred"
      ],
      "execution_count": null,
      "outputs": [
        {
          "output_type": "execute_result",
          "data": {
            "text/plain": [
              "(array([1, 3, 2, 1, 2, 2, 1, 3, 2, 2, 3, 3, 1, 2, 3, 2, 1, 1, 2, 1, 2, 1,\n",
              "        1, 2, 2, 2, 2, 2, 2, 3, 1, 1, 2, 1, 1, 1, 3, 2, 2, 3, 1, 1, 2, 2,\n",
              "        2]),\n",
              " array([1, 2, 2, 1, 2, 2, 1, 2, 2, 2, 3, 2, 1, 3, 3, 2, 1, 1, 2, 1, 2, 1,\n",
              "        3, 3, 3, 2, 2, 2, 2, 2, 1, 1, 2, 1, 1, 1, 3, 2, 2, 3, 1, 1, 2, 2,\n",
              "        2]))"
            ]
          },
          "metadata": {},
          "execution_count": 20
        }
      ]
    },
    {
      "cell_type": "code",
      "metadata": {
        "colab": {
          "base_uri": "https://localhost:8080/",
          "height": 282
        },
        "id": "KiqHtRCwVpno",
        "outputId": "dd817951-0975-41c5-8c5b-c0c934f4f8ea"
      },
      "source": [
        "plt.plot(X_train[:,0],X_train[:,1],marker='*')"
      ],
      "execution_count": null,
      "outputs": [
        {
          "output_type": "execute_result",
          "data": {
            "text/plain": [
              "[<matplotlib.lines.Line2D at 0x7ff674a32090>]"
            ]
          },
          "metadata": {},
          "execution_count": 38
        },
        {
          "output_type": "display_data",
          "data": {
            "text/plain": [
              "<Figure size 432x288 with 1 Axes>"
            ],
            "image/png": "[encoded data removed]"
          },
          "metadata": {
            "needs_background": "light"
          }
        }
      ]
    },
    {
      "cell_type": "code",
      "metadata": {
        "id": "v5vMNSBMXv-V"
      },
      "source": [
        "# Making the confusion matrix\n",
        "from sklearn.metrics import confusion_matrix\n",
        "cm = confusion_matrix(Y_test, Y_pred)\n"
      ],
      "execution_count": null,
      "outputs": []
    },
    {
      "cell_type": "code",
      "metadata": {
        "colab": {
          "base_uri": "https://localhost:8080/"
        },
        "id": "g-rEaC3fXxjQ",
        "outputId": "be65c65e-dc55-43e5-a749-9ecb13db1216"
      },
      "source": [
        "cm"
      ],
      "execution_count": null,
      "outputs": [
        {
          "output_type": "execute_result",
          "data": {
            "text/plain": [
              "array([[16,  0,  0],\n",
              "       [ 1, 20,  0],\n",
              "       [ 0,  0,  8]])"
            ]
          },
          "metadata": {},
          "execution_count": 40
        }
      ]
    },
    {
      "cell_type": "code",
      "metadata": {
        "colab": {
          "base_uri": "https://localhost:8080/"
        },
        "id": "Rzt4kWHbHuFv",
        "outputId": "daa370f5-feae-4488-a225-080d10ed9178"
      },
      "source": [
        "from sklearn.metrics import classification_report\n",
        "print (classification_report(Y_test, Y_pred))"
      ],
      "execution_count": null,
      "outputs": [
        {
          "output_type": "stream",
          "name": "stdout",
          "text": [
            "              precision    recall  f1-score   support\n",
            "\n",
            "           1       1.00      0.94      0.97        16\n",
            "           2       0.82      0.86      0.84        21\n",
            "           3       0.50      0.50      0.50         8\n",
            "\n",
            "    accuracy                           0.82        45\n",
            "   macro avg       0.77      0.76      0.77        45\n",
            "weighted avg       0.83      0.82      0.82        45\n",
            "\n"
          ]
        }
      ]
    }
  ]
}